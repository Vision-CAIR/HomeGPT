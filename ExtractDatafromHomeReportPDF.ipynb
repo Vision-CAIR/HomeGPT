{
 "cells": [
  {
   "cell_type": "code",
   "execution_count": 0,
   "metadata": {
    "application/vnd.databricks.v1+cell": {
     "cellMetadata": {
      "byteLimit": 2048000,
      "rowLimit": 10000
     },
     "inputWidgets": {},
     "nuid": "2534af4b-d599-464c-930a-ab8c1e445bd5",
     "showTitle": false,
     "title": ""
    }
   },
   "outputs": [
    {
     "output_type": "stream",
     "name": "stdout",
     "output_type": "stream",
     "text": [
      "\u001B[43mNote: you may need to restart the kernel using %restart_python or dbutils.library.restartPython() to use updated packages.\u001B[0m\nWARNING: pandas 1.5.3 does not provide the extra 'jinja2'\n\u001B[43mNote: you may need to restart the kernel using %restart_python or dbutils.library.restartPython() to use updated packages.\u001B[0m\n\u001B[43mNote: you may need to restart the kernel using %restart_python or dbutils.library.restartPython() to use updated packages.\u001B[0m\n\u001B[43mNote: you may need to restart the kernel using %restart_python or dbutils.library.restartPython() to use updated packages.\u001B[0m\n"
     ]
    }
   ],
   "source": [
    "%pip install transformers==4.30.2 \"unstructured[pdf,docx]==0.10.30\" langchain==0.1.5 llama-index==0.9.3 --quiet\n",
    "%pip install databricks-vectorsearch==0.22 pydantic==1.10.9 mlflow==2.10.1 --quiet\n",
    "dbutils.library.restartPython()\n"
   ]
  },
  {
   "cell_type": "code",
   "execution_count": 0,
   "metadata": {
    "application/vnd.databricks.v1+cell": {
     "cellMetadata": {
      "byteLimit": 2048000,
      "rowLimit": 10000
     },
     "inputWidgets": {},
     "nuid": "031da51e-2e2e-4183-8a00-e2d9fe9159ba",
     "showTitle": false,
     "title": ""
    }
   },
   "outputs": [
    {
     "output_type": "stream",
     "name": "stdout",
     "output_type": "stream",
     "text": [
      "\u001B[43mNote: you may need to restart the kernel using %restart_python or dbutils.library.restartPython() to use updated packages.\u001B[0m\nCollecting python-poppler\n  Using cached python_poppler-0.4.1.tar.gz (138 kB)\n  Installing build dependencies: started\n  Installing build dependencies: finished with status 'done'\n  Getting requirements to build wheel: started\n  Getting requirements to build wheel: finished with status 'done'\n  Installing backend dependencies: started\n  Installing backend dependencies: finished with status 'done'\n  Preparing metadata (pyproject.toml): started\n  Preparing metadata (pyproject.toml): finished with status 'error'\n  error: subprocess-exited-with-error\n  \n  × Preparing metadata (pyproject.toml) did not run successfully.\n  │ exit code: 1\n  ╰─> [19 lines of output]\n      \u001B[36m\u001B[1m+ meson setup /tmp/pip-install-m23f0dtm/python-poppler_412c9daf10bc42a0801b1a57470ce8d4 /tmp/pip-install-m23f0dtm/python-poppler_412c9daf10bc42a0801b1a57470ce8d4/.mesonpy-7adz35hj -Dbuildtype=release -Db_ndebug=if-release -Db_vscrt=md --native-file=/tmp/pip-install-m23f0dtm/python-poppler_412c9daf10bc42a0801b1a57470ce8d4/.mesonpy-7adz35hj/meson-python-native-file.ini\u001B[0m\n      The Meson build system\n      Version: 1.4.1\n      Source dir: /tmp/pip-install-m23f0dtm/python-poppler_412c9daf10bc42a0801b1a57470ce8d4\n      Build dir: /tmp/pip-install-m23f0dtm/python-poppler_412c9daf10bc42a0801b1a57470ce8d4/.mesonpy-7adz35hj\n      Build type: native build\n      Project name: python-poppler\n      Project version: 0.4.1\n      C++ compiler for the host machine: c++ (gcc 11.4.0 \"c++ (Ubuntu 11.4.0-1ubuntu1~22.04) 11.4.0\")\n      C++ linker for the host machine: c++ ld.bfd 2.38\n      Host machine cpu family: x86_64\n      Host machine cpu: x86_64\n      Found pkg-config: YES (/usr/bin/pkg-config) 0.29.2\n      Found CMake: /usr/bin/cmake (3.22.1)\n      Run-time dependency poppler-cpp found: NO (tried pkgconfig and cmake)\n      \n      ../meson.build:11:14: ERROR: Dependency \"poppler-cpp\" not found, tried pkgconfig and cmake\n      \n      A full log can be found at /tmp/pip-install-m23f0dtm/python-poppler_412c9daf10bc42a0801b1a57470ce8d4/.mesonpy-7adz35hj/meson-logs/meson-log.txt\n      [end of output]\n  \n  note: This error originates from a subprocess, and is likely not a problem with pip.\nerror: metadata-generation-failed\n\n× Encountered error while generating package metadata.\n╰─> See above for output.\n\nnote: This is an issue with the package mentioned above, not pip.\nhint: See above for details.\n"
     ]
    },
    {
     "output_type": "display_data",
     "data": {
      "text/plain": [
       "\u001B[0;31m---------------------------------------------------------------------------\u001B[0m\n",
       "\u001B[0;31mCalledProcessError\u001B[0m                        Traceback (most recent call last)\n",
       "File \u001B[0;32m<command-899513014180833>, line 1\u001B[0m\n",
       "\u001B[0;32m----> 1\u001B[0m \u001B[43mget_ipython\u001B[49m\u001B[43m(\u001B[49m\u001B[43m)\u001B[49m\u001B[38;5;241;43m.\u001B[39;49m\u001B[43mrun_line_magic\u001B[49m\u001B[43m(\u001B[49m\u001B[38;5;124;43m'\u001B[39;49m\u001B[38;5;124;43mpip\u001B[39;49m\u001B[38;5;124;43m'\u001B[39;49m\u001B[43m,\u001B[49m\u001B[43m \u001B[49m\u001B[38;5;124;43m'\u001B[39;49m\u001B[38;5;124;43minstall python-poppler\u001B[39;49m\u001B[38;5;124;43m'\u001B[39;49m\u001B[43m)\u001B[49m\n",
       "\n",
       "File \u001B[0;32m/databricks/python/lib/python3.10/site-packages/IPython/core/interactiveshell.py:2417\u001B[0m, in \u001B[0;36mInteractiveShell.run_line_magic\u001B[0;34m(self, magic_name, line, _stack_depth)\u001B[0m\n",
       "\u001B[1;32m   2415\u001B[0m     kwargs[\u001B[38;5;124m'\u001B[39m\u001B[38;5;124mlocal_ns\u001B[39m\u001B[38;5;124m'\u001B[39m] \u001B[38;5;241m=\u001B[39m \u001B[38;5;28mself\u001B[39m\u001B[38;5;241m.\u001B[39mget_local_scope(stack_depth)\n",
       "\u001B[1;32m   2416\u001B[0m \u001B[38;5;28;01mwith\u001B[39;00m \u001B[38;5;28mself\u001B[39m\u001B[38;5;241m.\u001B[39mbuiltin_trap:\n",
       "\u001B[0;32m-> 2417\u001B[0m     result \u001B[38;5;241m=\u001B[39m \u001B[43mfn\u001B[49m\u001B[43m(\u001B[49m\u001B[38;5;241;43m*\u001B[39;49m\u001B[43margs\u001B[49m\u001B[43m,\u001B[49m\u001B[43m \u001B[49m\u001B[38;5;241;43m*\u001B[39;49m\u001B[38;5;241;43m*\u001B[39;49m\u001B[43mkwargs\u001B[49m\u001B[43m)\u001B[49m\n",
       "\u001B[1;32m   2419\u001B[0m \u001B[38;5;66;03m# The code below prevents the output from being displayed\u001B[39;00m\n",
       "\u001B[1;32m   2420\u001B[0m \u001B[38;5;66;03m# when using magics with decodator @output_can_be_silenced\u001B[39;00m\n",
       "\u001B[1;32m   2421\u001B[0m \u001B[38;5;66;03m# when the last Python token in the expression is a ';'.\u001B[39;00m\n",
       "\u001B[1;32m   2422\u001B[0m \u001B[38;5;28;01mif\u001B[39;00m \u001B[38;5;28mgetattr\u001B[39m(fn, magic\u001B[38;5;241m.\u001B[39mMAGIC_OUTPUT_CAN_BE_SILENCED, \u001B[38;5;28;01mFalse\u001B[39;00m):\n",
       "\n",
       "File \u001B[0;32m/databricks/python_shell/dbruntime/PipMagicOverrides.py:33\u001B[0m, in \u001B[0;36mPipMagicOverrides.pip\u001B[0;34m(self, line)\u001B[0m\n",
       "\u001B[1;32m     31\u001B[0m \u001B[38;5;129m@line_magic\u001B[39m\n",
       "\u001B[1;32m     32\u001B[0m \u001B[38;5;28;01mdef\u001B[39;00m \u001B[38;5;21mpip\u001B[39m(\u001B[38;5;28mself\u001B[39m, line):\n",
       "\u001B[0;32m---> 33\u001B[0m     \u001B[38;5;28;43mself\u001B[39;49m\u001B[38;5;241;43m.\u001B[39;49m\u001B[43mpipMagicHandler\u001B[49m\u001B[38;5;241;43m.\u001B[39;49m\u001B[43mrunCmd\u001B[49m\u001B[43m(\u001B[49m\u001B[38;5;124;43m\"\u001B[39;49m\u001B[38;5;124;43mpip\u001B[39;49m\u001B[38;5;124;43m\"\u001B[39;49m\u001B[43m,\u001B[49m\u001B[43m \u001B[49m\u001B[43mline\u001B[49m\u001B[43m)\u001B[49m\n",
       "\n",
       "File \u001B[0;32m/databricks/python_shell/dbruntime/PipMagicOverrides.py:67\u001B[0m, in \u001B[0;36mPipMagicHandler.runCmd\u001B[0;34m(self, magicCmd, line)\u001B[0m\n",
       "\u001B[1;32m     65\u001B[0m \u001B[38;5;28;01mif\u001B[39;00m parsedResult\u001B[38;5;241m.\u001B[39misMutation():\n",
       "\u001B[1;32m     66\u001B[0m     envManager\u001B[38;5;241m.\u001B[39msetEnableEnvSnapshot(\u001B[38;5;28;01mFalse\u001B[39;00m)\n",
       "\u001B[0;32m---> 67\u001B[0m     \u001B[38;5;28;43mself\u001B[39;49m\u001B[38;5;241;43m.\u001B[39;49m\u001B[43mexecutePipCommand\u001B[49m\u001B[43m(\u001B[49m\u001B[43mparsedResult\u001B[49m\u001B[43m)\u001B[49m\n",
       "\u001B[1;32m     68\u001B[0m     envManager\u001B[38;5;241m.\u001B[39msetEnableEnvSnapshot(\u001B[38;5;28;01mTrue\u001B[39;00m)\n",
       "\u001B[1;32m     69\u001B[0m \u001B[38;5;28;01melse\u001B[39;00m:\n",
       "\n",
       "File \u001B[0;32m/databricks/python_shell/dbruntime/PipMagicOverrides.py:139\u001B[0m, in \u001B[0;36mPipMagicHandler.executePipCommand\u001B[0;34m(self, result)\u001B[0m\n",
       "\u001B[1;32m    137\u001B[0m     sys\u001B[38;5;241m.\u001B[39mstdout\u001B[38;5;241m.\u001B[39mflush()\n",
       "\u001B[1;32m    138\u001B[0m     \u001B[38;5;28;01mif\u001B[39;00m returncode \u001B[38;5;241m!=\u001B[39m \u001B[38;5;241m0\u001B[39m:\n",
       "\u001B[0;32m--> 139\u001B[0m         \u001B[38;5;28;01mraise\u001B[39;00m subprocess\u001B[38;5;241m.\u001B[39mCalledProcessError(returncode, origCmd)\n",
       "\u001B[1;32m    140\u001B[0m \u001B[38;5;28;01mfinally\u001B[39;00m:\n",
       "\u001B[1;32m    141\u001B[0m     end \u001B[38;5;241m=\u001B[39m time\u001B[38;5;241m.\u001B[39mtime()\n",
       "\n",
       "\u001B[0;31mCalledProcessError\u001B[0m: Command 'pip --disable-pip-version-check install python-poppler' returned non-zero exit status 1."
      ]
     },
     "metadata": {
      "application/vnd.databricks.v1+output": {
       "addedWidgets": {},
       "arguments": {},
       "datasetInfos": [],
       "jupyterProps": {
        "ename": "CalledProcessError",
        "evalue": "Command 'pip --disable-pip-version-check install python-poppler' returned non-zero exit status 1."
       },
       "metadata": {
        "errorSummary": "<span class='ansi-red-fg'>CalledProcessError</span>: Command 'pip --disable-pip-version-check install python-poppler' returned non-zero exit status 1."
       },
       "removedWidgets": [],
       "sqlProps": null,
       "stackFrames": [
        "\u001B[0;31m---------------------------------------------------------------------------\u001B[0m",
        "\u001B[0;31mCalledProcessError\u001B[0m                        Traceback (most recent call last)",
        "File \u001B[0;32m<command-899513014180833>, line 1\u001B[0m\n\u001B[0;32m----> 1\u001B[0m \u001B[43mget_ipython\u001B[49m\u001B[43m(\u001B[49m\u001B[43m)\u001B[49m\u001B[38;5;241;43m.\u001B[39;49m\u001B[43mrun_line_magic\u001B[49m\u001B[43m(\u001B[49m\u001B[38;5;124;43m'\u001B[39;49m\u001B[38;5;124;43mpip\u001B[39;49m\u001B[38;5;124;43m'\u001B[39;49m\u001B[43m,\u001B[49m\u001B[43m \u001B[49m\u001B[38;5;124;43m'\u001B[39;49m\u001B[38;5;124;43minstall python-poppler\u001B[39;49m\u001B[38;5;124;43m'\u001B[39;49m\u001B[43m)\u001B[49m\n",
        "File \u001B[0;32m/databricks/python/lib/python3.10/site-packages/IPython/core/interactiveshell.py:2417\u001B[0m, in \u001B[0;36mInteractiveShell.run_line_magic\u001B[0;34m(self, magic_name, line, _stack_depth)\u001B[0m\n\u001B[1;32m   2415\u001B[0m     kwargs[\u001B[38;5;124m'\u001B[39m\u001B[38;5;124mlocal_ns\u001B[39m\u001B[38;5;124m'\u001B[39m] \u001B[38;5;241m=\u001B[39m \u001B[38;5;28mself\u001B[39m\u001B[38;5;241m.\u001B[39mget_local_scope(stack_depth)\n\u001B[1;32m   2416\u001B[0m \u001B[38;5;28;01mwith\u001B[39;00m \u001B[38;5;28mself\u001B[39m\u001B[38;5;241m.\u001B[39mbuiltin_trap:\n\u001B[0;32m-> 2417\u001B[0m     result \u001B[38;5;241m=\u001B[39m \u001B[43mfn\u001B[49m\u001B[43m(\u001B[49m\u001B[38;5;241;43m*\u001B[39;49m\u001B[43margs\u001B[49m\u001B[43m,\u001B[49m\u001B[43m \u001B[49m\u001B[38;5;241;43m*\u001B[39;49m\u001B[38;5;241;43m*\u001B[39;49m\u001B[43mkwargs\u001B[49m\u001B[43m)\u001B[49m\n\u001B[1;32m   2419\u001B[0m \u001B[38;5;66;03m# The code below prevents the output from being displayed\u001B[39;00m\n\u001B[1;32m   2420\u001B[0m \u001B[38;5;66;03m# when using magics with decodator @output_can_be_silenced\u001B[39;00m\n\u001B[1;32m   2421\u001B[0m \u001B[38;5;66;03m# when the last Python token in the expression is a ';'.\u001B[39;00m\n\u001B[1;32m   2422\u001B[0m \u001B[38;5;28;01mif\u001B[39;00m \u001B[38;5;28mgetattr\u001B[39m(fn, magic\u001B[38;5;241m.\u001B[39mMAGIC_OUTPUT_CAN_BE_SILENCED, \u001B[38;5;28;01mFalse\u001B[39;00m):\n",
        "File \u001B[0;32m/databricks/python_shell/dbruntime/PipMagicOverrides.py:33\u001B[0m, in \u001B[0;36mPipMagicOverrides.pip\u001B[0;34m(self, line)\u001B[0m\n\u001B[1;32m     31\u001B[0m \u001B[38;5;129m@line_magic\u001B[39m\n\u001B[1;32m     32\u001B[0m \u001B[38;5;28;01mdef\u001B[39;00m \u001B[38;5;21mpip\u001B[39m(\u001B[38;5;28mself\u001B[39m, line):\n\u001B[0;32m---> 33\u001B[0m     \u001B[38;5;28;43mself\u001B[39;49m\u001B[38;5;241;43m.\u001B[39;49m\u001B[43mpipMagicHandler\u001B[49m\u001B[38;5;241;43m.\u001B[39;49m\u001B[43mrunCmd\u001B[49m\u001B[43m(\u001B[49m\u001B[38;5;124;43m\"\u001B[39;49m\u001B[38;5;124;43mpip\u001B[39;49m\u001B[38;5;124;43m\"\u001B[39;49m\u001B[43m,\u001B[49m\u001B[43m \u001B[49m\u001B[43mline\u001B[49m\u001B[43m)\u001B[49m\n",
        "File \u001B[0;32m/databricks/python_shell/dbruntime/PipMagicOverrides.py:67\u001B[0m, in \u001B[0;36mPipMagicHandler.runCmd\u001B[0;34m(self, magicCmd, line)\u001B[0m\n\u001B[1;32m     65\u001B[0m \u001B[38;5;28;01mif\u001B[39;00m parsedResult\u001B[38;5;241m.\u001B[39misMutation():\n\u001B[1;32m     66\u001B[0m     envManager\u001B[38;5;241m.\u001B[39msetEnableEnvSnapshot(\u001B[38;5;28;01mFalse\u001B[39;00m)\n\u001B[0;32m---> 67\u001B[0m     \u001B[38;5;28;43mself\u001B[39;49m\u001B[38;5;241;43m.\u001B[39;49m\u001B[43mexecutePipCommand\u001B[49m\u001B[43m(\u001B[49m\u001B[43mparsedResult\u001B[49m\u001B[43m)\u001B[49m\n\u001B[1;32m     68\u001B[0m     envManager\u001B[38;5;241m.\u001B[39msetEnableEnvSnapshot(\u001B[38;5;28;01mTrue\u001B[39;00m)\n\u001B[1;32m     69\u001B[0m \u001B[38;5;28;01melse\u001B[39;00m:\n",
        "File \u001B[0;32m/databricks/python_shell/dbruntime/PipMagicOverrides.py:139\u001B[0m, in \u001B[0;36mPipMagicHandler.executePipCommand\u001B[0;34m(self, result)\u001B[0m\n\u001B[1;32m    137\u001B[0m     sys\u001B[38;5;241m.\u001B[39mstdout\u001B[38;5;241m.\u001B[39mflush()\n\u001B[1;32m    138\u001B[0m     \u001B[38;5;28;01mif\u001B[39;00m returncode \u001B[38;5;241m!=\u001B[39m \u001B[38;5;241m0\u001B[39m:\n\u001B[0;32m--> 139\u001B[0m         \u001B[38;5;28;01mraise\u001B[39;00m subprocess\u001B[38;5;241m.\u001B[39mCalledProcessError(returncode, origCmd)\n\u001B[1;32m    140\u001B[0m \u001B[38;5;28;01mfinally\u001B[39;00m:\n\u001B[1;32m    141\u001B[0m     end \u001B[38;5;241m=\u001B[39m time\u001B[38;5;241m.\u001B[39mtime()\n",
        "\u001B[0;31mCalledProcessError\u001B[0m: Command 'pip --disable-pip-version-check install python-poppler' returned non-zero exit status 1."
       ],
       "type": "baseError"
      }
     },
     "output_type": "display_data"
    }
   ],
   "source": []
  },
  {
   "cell_type": "code",
   "execution_count": 0,
   "metadata": {
    "application/vnd.databricks.v1+cell": {
     "cellMetadata": {
      "byteLimit": 2048000,
      "rowLimit": 10000
     },
     "inputWidgets": {},
     "nuid": "bb94e458-0803-4927-8c1b-f87fcdc87e36",
     "showTitle": false,
     "title": ""
    }
   },
   "outputs": [
    {
     "output_type": "stream",
     "name": "stderr",
     "output_type": "stream",
     "text": [
      "rm: cannot remove '/var/cache/apt/archives/lock': Permission denied\nrm: cannot remove '/var/cache/apt/archives/partial': Permission denied\nrm: cannot remove '/var/lib/apt/lists/auxfiles': Permission denied\nrm: cannot remove '/var/lib/apt/lists/partial': Permission denied\n"
     ]
    }
   ],
   "source": [
    "%sh rm -rf /var/cache/apt/archives/* /var/lib/apt/lists/* && sudo apt-get clean && sudo apt-get update && sudo apt-get install poppler-utils tesseract-ocr -y"
   ]
  },
  {
   "cell_type": "code",
   "execution_count": 0,
   "metadata": {
    "application/vnd.databricks.v1+cell": {
     "cellMetadata": {},
     "inputWidgets": {},
     "nuid": "29d816e3-73ae-4470-adfa-e16c347a4819",
     "showTitle": false,
     "title": ""
    }
   },
   "outputs": [],
   "source": []
  },
  {
   "cell_type": "code",
   "execution_count": 0,
   "metadata": {
    "application/vnd.databricks.v1+cell": {
     "cellMetadata": {
      "byteLimit": 2048000,
      "rowLimit": 10000
     },
     "inputWidgets": {},
     "nuid": "48a7a314-dbf7-4120-9074-d1c33d1b3b48",
     "showTitle": false,
     "title": ""
    }
   },
   "outputs": [],
   "source": [
    "filename_homereport=f\"/Volumes/home-inspection-gpt/default/inspection-report/report1.pdf\";\n",
    "# %sh sudo rm -rf /var/cache/apt/archives/* /var/lib/apt/lists/* && sudo apt-get clean && sudo apt-get update && sudo apt-get install poppler-utils tesseract-ocr -y\n",
    "from unstructured.partition.auto import partition\n",
    "from unstructured.partition.pdf import partition_pdf\n",
    "from pyspark.sql.types import StructType, StructField, StringType\n",
    "import glob\n",
    "import re\n",
    "import requests\n",
    "import io\n",
    "import json"
   ]
  },
  {
   "cell_type": "code",
   "execution_count": 0,
   "metadata": {
    "application/vnd.databricks.v1+cell": {
     "cellMetadata": {
      "byteLimit": 2048000,
      "rowLimit": 10000
     },
     "inputWidgets": {},
     "nuid": "6626cda5-2366-4959-956b-6446dcddc87c",
     "showTitle": false,
     "title": ""
    }
   },
   "outputs": [
    {
     "output_type": "stream",
     "name": "stderr",
     "output_type": "stream",
     "text": [
      "sudo: a terminal is required to read the password; either use the -S option to read from standard input or configure an askpass helper\nsudo: a password is required\n"
     ]
    }
   ],
   "source": [
    "%sh sudo rm -rf /var/cache/apt/archives/* /var/lib/apt/lists/* && sudo apt-get clean && sudo apt-get update && sudo apt-get install poppler-utils tesseract-ocr -y"
   ]
  },
  {
   "cell_type": "code",
   "execution_count": 0,
   "metadata": {
    "application/vnd.databricks.v1+cell": {
     "cellMetadata": {
      "byteLimit": 2048000,
      "rowLimit": 10000
     },
     "inputWidgets": {},
     "nuid": "b527762f-2409-46a4-9906-86f6d83fed7a",
     "showTitle": false,
     "title": ""
    }
   },
   "outputs": [],
   "source": [
    "# Remove after import from helpers.py\n",
    "import os\n",
    "import re\n",
    "def extract_text_and_language(elements):\n",
    "\n",
    "    output = []\n",
    "    for t in elements:\n",
    "        element_data = {}\n",
    "        element_data = {\n",
    "            \"type\": str(type(t)),\n",
    "            \"element_id\": t.id,\n",
    "            \"text_data\": t.text,\n",
    "        }\n",
    "\n",
    "        if t.metadata.languages:\n",
    "            element_data[\"languages\"] = t.metadata.languages[0]\n",
    "        else:\n",
    "            element_data[\"languages\"] = None\n",
    "\n",
    "        if \"image\" in str(type(t)):\n",
    "            element_data[\"image_path\"] = t.to_dict()[\"metadata\"][\"image_path\"]\n",
    "        else:\n",
    "            element_data[\"image_path\"] = None\n",
    "\n",
    "        if (\"NarrativeText\" in str(type(t))) and (\n",
    "            \"parent_id\" in t.to_dict()[\"metadata\"]\n",
    "        ):\n",
    "            element_data[\"parent_id\"] = t.to_dict()[\"metadata\"][\"parent_id\"]\n",
    "        else:\n",
    "            element_data[\"parent_id\"] = None\n",
    "\n",
    "        if (\"Table\" in str(type(t))) and t.metadata.text_as_html:\n",
    "            element_data[\"table_data\"] = str(t.metadata.text_as_html)\n",
    "        else:\n",
    "            element_data[\"table_data\"] = None\n",
    "\n",
    "        output.append(element_data)\n",
    "\n",
    "    return output\n",
    "\n",
    "\n",
    "\n",
    "def sanitize_filename(filename):\n",
    "    # Replace all non-alphanumeric characters with underscores and convert to lowercase\n",
    "    sanitized_filename = re.sub(r'[^a-zA-Z0-9]', '_', filename).lower()\n",
    "    return sanitized_filename"
   ]
  },
  {
   "cell_type": "code",
   "execution_count": 0,
   "metadata": {
    "application/vnd.databricks.v1+cell": {
     "cellMetadata": {
      "byteLimit": 2048000,
      "rowLimit": 10000
     },
     "inputWidgets": {},
     "nuid": "9478f96f-4a1e-4a79-8870-11c23635df0b",
     "showTitle": false,
     "title": ""
    }
   },
   "outputs": [
    {
     "output_type": "stream",
     "name": "stdout",
     "output_type": "stream",
     "text": [
      "/Volumes/home-inspection-gpt/default/inspection-report/report1.pdf\n"
     ]
    },
    {
     "output_type": "display_data",
     "data": {
      "text/plain": [
       "\u001B[0;31m---------------------------------------------------------------------------\u001B[0m\n",
       "\u001B[0;31mFileNotFoundError\u001B[0m                         Traceback (most recent call last)\n",
       "File \u001B[0;32m/local_disk0/.ephemeral_nfs/envs/pythonEnv-53ab9f13-a598-4dc8-967d-8cd64e7ba759/lib/python3.10/site-packages/pdf2image/pdf2image.py:581\u001B[0m, in \u001B[0;36mpdfinfo_from_path\u001B[0;34m(pdf_path, userpw, ownerpw, poppler_path, rawdates, timeout, first_page, last_page)\u001B[0m\n",
       "\u001B[1;32m    580\u001B[0m     env[\u001B[38;5;124m\"\u001B[39m\u001B[38;5;124mLD_LIBRARY_PATH\u001B[39m\u001B[38;5;124m\"\u001B[39m] \u001B[38;5;241m=\u001B[39m poppler_path \u001B[38;5;241m+\u001B[39m \u001B[38;5;124m\"\u001B[39m\u001B[38;5;124m:\u001B[39m\u001B[38;5;124m\"\u001B[39m \u001B[38;5;241m+\u001B[39m env\u001B[38;5;241m.\u001B[39mget(\u001B[38;5;124m\"\u001B[39m\u001B[38;5;124mLD_LIBRARY_PATH\u001B[39m\u001B[38;5;124m\"\u001B[39m, \u001B[38;5;124m\"\u001B[39m\u001B[38;5;124m\"\u001B[39m)\n",
       "\u001B[0;32m--> 581\u001B[0m proc \u001B[38;5;241m=\u001B[39m \u001B[43mPopen\u001B[49m\u001B[43m(\u001B[49m\u001B[43mcommand\u001B[49m\u001B[43m,\u001B[49m\u001B[43m \u001B[49m\u001B[43menv\u001B[49m\u001B[38;5;241;43m=\u001B[39;49m\u001B[43menv\u001B[49m\u001B[43m,\u001B[49m\u001B[43m \u001B[49m\u001B[43mstdout\u001B[49m\u001B[38;5;241;43m=\u001B[39;49m\u001B[43mPIPE\u001B[49m\u001B[43m,\u001B[49m\u001B[43m \u001B[49m\u001B[43mstderr\u001B[49m\u001B[38;5;241;43m=\u001B[39;49m\u001B[43mPIPE\u001B[49m\u001B[43m)\u001B[49m\n",
       "\u001B[1;32m    583\u001B[0m \u001B[38;5;28;01mtry\u001B[39;00m:\n",
       "\n",
       "File \u001B[0;32m/usr/lib/python3.10/subprocess.py:971\u001B[0m, in \u001B[0;36mPopen.__init__\u001B[0;34m(self, args, bufsize, executable, stdin, stdout, stderr, preexec_fn, close_fds, shell, cwd, env, universal_newlines, startupinfo, creationflags, restore_signals, start_new_session, pass_fds, user, group, extra_groups, encoding, errors, text, umask, pipesize)\u001B[0m\n",
       "\u001B[1;32m    968\u001B[0m             \u001B[38;5;28mself\u001B[39m\u001B[38;5;241m.\u001B[39mstderr \u001B[38;5;241m=\u001B[39m io\u001B[38;5;241m.\u001B[39mTextIOWrapper(\u001B[38;5;28mself\u001B[39m\u001B[38;5;241m.\u001B[39mstderr,\n",
       "\u001B[1;32m    969\u001B[0m                     encoding\u001B[38;5;241m=\u001B[39mencoding, errors\u001B[38;5;241m=\u001B[39merrors)\n",
       "\u001B[0;32m--> 971\u001B[0m     \u001B[38;5;28;43mself\u001B[39;49m\u001B[38;5;241;43m.\u001B[39;49m\u001B[43m_execute_child\u001B[49m\u001B[43m(\u001B[49m\u001B[43margs\u001B[49m\u001B[43m,\u001B[49m\u001B[43m \u001B[49m\u001B[43mexecutable\u001B[49m\u001B[43m,\u001B[49m\u001B[43m \u001B[49m\u001B[43mpreexec_fn\u001B[49m\u001B[43m,\u001B[49m\u001B[43m \u001B[49m\u001B[43mclose_fds\u001B[49m\u001B[43m,\u001B[49m\n",
       "\u001B[1;32m    972\u001B[0m \u001B[43m                        \u001B[49m\u001B[43mpass_fds\u001B[49m\u001B[43m,\u001B[49m\u001B[43m \u001B[49m\u001B[43mcwd\u001B[49m\u001B[43m,\u001B[49m\u001B[43m \u001B[49m\u001B[43menv\u001B[49m\u001B[43m,\u001B[49m\n",
       "\u001B[1;32m    973\u001B[0m \u001B[43m                        \u001B[49m\u001B[43mstartupinfo\u001B[49m\u001B[43m,\u001B[49m\u001B[43m \u001B[49m\u001B[43mcreationflags\u001B[49m\u001B[43m,\u001B[49m\u001B[43m \u001B[49m\u001B[43mshell\u001B[49m\u001B[43m,\u001B[49m\n",
       "\u001B[1;32m    974\u001B[0m \u001B[43m                        \u001B[49m\u001B[43mp2cread\u001B[49m\u001B[43m,\u001B[49m\u001B[43m \u001B[49m\u001B[43mp2cwrite\u001B[49m\u001B[43m,\u001B[49m\n",
       "\u001B[1;32m    975\u001B[0m \u001B[43m                        \u001B[49m\u001B[43mc2pread\u001B[49m\u001B[43m,\u001B[49m\u001B[43m \u001B[49m\u001B[43mc2pwrite\u001B[49m\u001B[43m,\u001B[49m\n",
       "\u001B[1;32m    976\u001B[0m \u001B[43m                        \u001B[49m\u001B[43merrread\u001B[49m\u001B[43m,\u001B[49m\u001B[43m \u001B[49m\u001B[43merrwrite\u001B[49m\u001B[43m,\u001B[49m\n",
       "\u001B[1;32m    977\u001B[0m \u001B[43m                        \u001B[49m\u001B[43mrestore_signals\u001B[49m\u001B[43m,\u001B[49m\n",
       "\u001B[1;32m    978\u001B[0m \u001B[43m                        \u001B[49m\u001B[43mgid\u001B[49m\u001B[43m,\u001B[49m\u001B[43m \u001B[49m\u001B[43mgids\u001B[49m\u001B[43m,\u001B[49m\u001B[43m \u001B[49m\u001B[43muid\u001B[49m\u001B[43m,\u001B[49m\u001B[43m \u001B[49m\u001B[43mumask\u001B[49m\u001B[43m,\u001B[49m\n",
       "\u001B[1;32m    979\u001B[0m \u001B[43m                        \u001B[49m\u001B[43mstart_new_session\u001B[49m\u001B[43m)\u001B[49m\n",
       "\u001B[1;32m    980\u001B[0m \u001B[38;5;28;01mexcept\u001B[39;00m:\n",
       "\u001B[1;32m    981\u001B[0m     \u001B[38;5;66;03m# Cleanup if the child failed starting.\u001B[39;00m\n",
       "\n",
       "File \u001B[0;32m/usr/lib/python3.10/subprocess.py:1863\u001B[0m, in \u001B[0;36mPopen._execute_child\u001B[0;34m(self, args, executable, preexec_fn, close_fds, pass_fds, cwd, env, startupinfo, creationflags, shell, p2cread, p2cwrite, c2pread, c2pwrite, errread, errwrite, restore_signals, gid, gids, uid, umask, start_new_session)\u001B[0m\n",
       "\u001B[1;32m   1862\u001B[0m         err_msg \u001B[38;5;241m=\u001B[39m os\u001B[38;5;241m.\u001B[39mstrerror(errno_num)\n",
       "\u001B[0;32m-> 1863\u001B[0m     \u001B[38;5;28;01mraise\u001B[39;00m child_exception_type(errno_num, err_msg, err_filename)\n",
       "\u001B[1;32m   1864\u001B[0m \u001B[38;5;28;01mraise\u001B[39;00m child_exception_type(err_msg)\n",
       "\n",
       "\u001B[0;31mFileNotFoundError\u001B[0m: [Errno 2] No such file or directory: 'pdfinfo'\n",
       "\n",
       "During handling of the above exception, another exception occurred:\n",
       "\n",
       "\u001B[0;31mPDFInfoNotInstalledError\u001B[0m                  Traceback (most recent call last)\n",
       "File \u001B[0;32m<command-899513014180804>, line 2\u001B[0m\n",
       "\u001B[1;32m      1\u001B[0m \u001B[38;5;28mprint\u001B[39m (filename_homereport)\n",
       "\u001B[0;32m----> 2\u001B[0m pdf_elements_digital \u001B[38;5;241m=\u001B[39m partition_pdf(\n",
       "\u001B[1;32m      3\u001B[0m     filename\u001B[38;5;241m=\u001B[39mfilename_homereport,\n",
       "\u001B[1;32m      4\u001B[0m     extract_images_in_pdf\u001B[38;5;241m=\u001B[39m\u001B[38;5;28;01mTrue\u001B[39;00m,\n",
       "\u001B[1;32m      5\u001B[0m     infer_table_structure\u001B[38;5;241m=\u001B[39m\u001B[38;5;28;01mTrue\u001B[39;00m,\n",
       "\u001B[1;32m      6\u001B[0m     strategy\u001B[38;5;241m=\u001B[39m\u001B[38;5;124m\"\u001B[39m\u001B[38;5;124mhi_res\u001B[39m\u001B[38;5;124m\"\u001B[39m,\n",
       "\u001B[1;32m      7\u001B[0m     extract_image_block_types\u001B[38;5;241m=\u001B[39m[\u001B[38;5;124m\"\u001B[39m\u001B[38;5;124mImage\u001B[39m\u001B[38;5;124m\"\u001B[39m, \u001B[38;5;124m\"\u001B[39m\u001B[38;5;124mTable\u001B[39m\u001B[38;5;124m\"\u001B[39m],\n",
       "\u001B[1;32m      8\u001B[0m     extract_image_block_to_payload\u001B[38;5;241m=\u001B[39m\u001B[38;5;28;01mFalse\u001B[39;00m,\n",
       "\u001B[1;32m      9\u001B[0m     max_characters\u001B[38;5;241m=\u001B[39m\u001B[38;5;241m4000\u001B[39m,\n",
       "\u001B[1;32m     10\u001B[0m     new_after_n_chars\u001B[38;5;241m=\u001B[39m\u001B[38;5;241m3800\u001B[39m,\n",
       "\u001B[1;32m     11\u001B[0m     combine_text_under_n_chars\u001B[38;5;241m=\u001B[39m\u001B[38;5;241m2000\u001B[39m,\n",
       "\u001B[1;32m     12\u001B[0m     image_output_dir_path\u001B[38;5;241m=\u001B[39m\u001B[38;5;124mf\u001B[39m\u001B[38;5;124m\"\u001B[39m\u001B[38;5;124m/Volumes/home-inspection-gpt/default/pdf-images\u001B[39m\u001B[38;5;124m\"\u001B[39m,\n",
       "\u001B[1;32m     13\u001B[0m     extract_image_block_output_dir\u001B[38;5;241m=\u001B[39m\u001B[38;5;124m\"\u001B[39m\u001B[38;5;124m/Volumes/home-inspection-gpt/default/output-image-block\u001B[39m\u001B[38;5;124m\"\u001B[39m,\n",
       "\u001B[1;32m     14\u001B[0m )\n",
       "\n",
       "File \u001B[0;32m/local_disk0/.ephemeral_nfs/envs/pythonEnv-53ab9f13-a598-4dc8-967d-8cd64e7ba759/lib/python3.10/site-packages/unstructured/documents/elements.py:371\u001B[0m, in \u001B[0;36mprocess_metadata.<locals>.decorator.<locals>.wrapper\u001B[0;34m(*args, **kwargs)\u001B[0m\n",
       "\u001B[1;32m    369\u001B[0m \u001B[38;5;129m@functools\u001B[39m\u001B[38;5;241m.\u001B[39mwraps(func)\n",
       "\u001B[1;32m    370\u001B[0m \u001B[38;5;28;01mdef\u001B[39;00m \u001B[38;5;21mwrapper\u001B[39m(\u001B[38;5;241m*\u001B[39margs: _P\u001B[38;5;241m.\u001B[39margs, \u001B[38;5;241m*\u001B[39m\u001B[38;5;241m*\u001B[39mkwargs: _P\u001B[38;5;241m.\u001B[39mkwargs) \u001B[38;5;241m-\u001B[39m\u001B[38;5;241m>\u001B[39m List[Element]:\n",
       "\u001B[0;32m--> 371\u001B[0m     elements \u001B[38;5;241m=\u001B[39m \u001B[43mfunc\u001B[49m\u001B[43m(\u001B[49m\u001B[38;5;241;43m*\u001B[39;49m\u001B[43margs\u001B[49m\u001B[43m,\u001B[49m\u001B[43m \u001B[49m\u001B[38;5;241;43m*\u001B[39;49m\u001B[38;5;241;43m*\u001B[39;49m\u001B[43mkwargs\u001B[49m\u001B[43m)\u001B[49m\n",
       "\u001B[1;32m    372\u001B[0m     sig \u001B[38;5;241m=\u001B[39m inspect\u001B[38;5;241m.\u001B[39msignature(func)\n",
       "\u001B[1;32m    373\u001B[0m     params: Dict[\u001B[38;5;28mstr\u001B[39m, Any] \u001B[38;5;241m=\u001B[39m \u001B[38;5;28mdict\u001B[39m(\u001B[38;5;241m*\u001B[39m\u001B[38;5;241m*\u001B[39m\u001B[38;5;28mdict\u001B[39m(\u001B[38;5;28mzip\u001B[39m(sig\u001B[38;5;241m.\u001B[39mparameters, args)), \u001B[38;5;241m*\u001B[39m\u001B[38;5;241m*\u001B[39mkwargs)\n",
       "\n",
       "File \u001B[0;32m/local_disk0/.ephemeral_nfs/envs/pythonEnv-53ab9f13-a598-4dc8-967d-8cd64e7ba759/lib/python3.10/site-packages/unstructured/file_utils/filetype.py:591\u001B[0m, in \u001B[0;36madd_filetype.<locals>.decorator.<locals>.wrapper\u001B[0;34m(*args, **kwargs)\u001B[0m\n",
       "\u001B[1;32m    589\u001B[0m \u001B[38;5;129m@functools\u001B[39m\u001B[38;5;241m.\u001B[39mwraps(func)\n",
       "\u001B[1;32m    590\u001B[0m \u001B[38;5;28;01mdef\u001B[39;00m \u001B[38;5;21mwrapper\u001B[39m(\u001B[38;5;241m*\u001B[39margs: _P\u001B[38;5;241m.\u001B[39margs, \u001B[38;5;241m*\u001B[39m\u001B[38;5;241m*\u001B[39mkwargs: _P\u001B[38;5;241m.\u001B[39mkwargs) \u001B[38;5;241m-\u001B[39m\u001B[38;5;241m>\u001B[39m List[Element]:\n",
       "\u001B[0;32m--> 591\u001B[0m     elements \u001B[38;5;241m=\u001B[39m \u001B[43mfunc\u001B[49m\u001B[43m(\u001B[49m\u001B[38;5;241;43m*\u001B[39;49m\u001B[43margs\u001B[49m\u001B[43m,\u001B[49m\u001B[43m \u001B[49m\u001B[38;5;241;43m*\u001B[39;49m\u001B[38;5;241;43m*\u001B[39;49m\u001B[43mkwargs\u001B[49m\u001B[43m)\u001B[49m\n",
       "\u001B[1;32m    592\u001B[0m     sig \u001B[38;5;241m=\u001B[39m inspect\u001B[38;5;241m.\u001B[39msignature(func)\n",
       "\u001B[1;32m    593\u001B[0m     params: Dict[\u001B[38;5;28mstr\u001B[39m, Any] \u001B[38;5;241m=\u001B[39m \u001B[38;5;28mdict\u001B[39m(\u001B[38;5;241m*\u001B[39m\u001B[38;5;241m*\u001B[39m\u001B[38;5;28mdict\u001B[39m(\u001B[38;5;28mzip\u001B[39m(sig\u001B[38;5;241m.\u001B[39mparameters, args)), \u001B[38;5;241m*\u001B[39m\u001B[38;5;241m*\u001B[39mkwargs)\n",
       "\n",
       "File \u001B[0;32m/local_disk0/.ephemeral_nfs/envs/pythonEnv-53ab9f13-a598-4dc8-967d-8cd64e7ba759/lib/python3.10/site-packages/unstructured/file_utils/filetype.py:546\u001B[0m, in \u001B[0;36madd_metadata.<locals>.wrapper\u001B[0;34m(*args, **kwargs)\u001B[0m\n",
       "\u001B[1;32m    544\u001B[0m \u001B[38;5;129m@functools\u001B[39m\u001B[38;5;241m.\u001B[39mwraps(func)\n",
       "\u001B[1;32m    545\u001B[0m \u001B[38;5;28;01mdef\u001B[39;00m \u001B[38;5;21mwrapper\u001B[39m(\u001B[38;5;241m*\u001B[39margs: _P\u001B[38;5;241m.\u001B[39margs, \u001B[38;5;241m*\u001B[39m\u001B[38;5;241m*\u001B[39mkwargs: _P\u001B[38;5;241m.\u001B[39mkwargs) \u001B[38;5;241m-\u001B[39m\u001B[38;5;241m>\u001B[39m List[Element]:\n",
       "\u001B[0;32m--> 546\u001B[0m     elements \u001B[38;5;241m=\u001B[39m \u001B[43mfunc\u001B[49m\u001B[43m(\u001B[49m\u001B[38;5;241;43m*\u001B[39;49m\u001B[43margs\u001B[49m\u001B[43m,\u001B[49m\u001B[43m \u001B[49m\u001B[38;5;241;43m*\u001B[39;49m\u001B[38;5;241;43m*\u001B[39;49m\u001B[43mkwargs\u001B[49m\u001B[43m)\u001B[49m\n",
       "\u001B[1;32m    547\u001B[0m     sig \u001B[38;5;241m=\u001B[39m inspect\u001B[38;5;241m.\u001B[39msignature(func)\n",
       "\u001B[1;32m    548\u001B[0m     params: Dict[\u001B[38;5;28mstr\u001B[39m, Any] \u001B[38;5;241m=\u001B[39m \u001B[38;5;28mdict\u001B[39m(\u001B[38;5;241m*\u001B[39m\u001B[38;5;241m*\u001B[39m\u001B[38;5;28mdict\u001B[39m(\u001B[38;5;28mzip\u001B[39m(sig\u001B[38;5;241m.\u001B[39mparameters, args)), \u001B[38;5;241m*\u001B[39m\u001B[38;5;241m*\u001B[39mkwargs)\n",
       "\n",
       "File \u001B[0;32m/local_disk0/.ephemeral_nfs/envs/pythonEnv-53ab9f13-a598-4dc8-967d-8cd64e7ba759/lib/python3.10/site-packages/unstructured/chunking/title.py:297\u001B[0m, in \u001B[0;36madd_chunking_strategy.<locals>.decorator.<locals>.wrapper\u001B[0;34m(*args, **kwargs)\u001B[0m\n",
       "\u001B[1;32m    295\u001B[0m \u001B[38;5;129m@functools\u001B[39m\u001B[38;5;241m.\u001B[39mwraps(func)\n",
       "\u001B[1;32m    296\u001B[0m \u001B[38;5;28;01mdef\u001B[39;00m \u001B[38;5;21mwrapper\u001B[39m(\u001B[38;5;241m*\u001B[39margs: _P\u001B[38;5;241m.\u001B[39margs, \u001B[38;5;241m*\u001B[39m\u001B[38;5;241m*\u001B[39mkwargs: _P\u001B[38;5;241m.\u001B[39mkwargs) \u001B[38;5;241m-\u001B[39m\u001B[38;5;241m>\u001B[39m List[Element]:\n",
       "\u001B[0;32m--> 297\u001B[0m     elements \u001B[38;5;241m=\u001B[39m \u001B[43mfunc\u001B[49m\u001B[43m(\u001B[49m\u001B[38;5;241;43m*\u001B[39;49m\u001B[43margs\u001B[49m\u001B[43m,\u001B[49m\u001B[43m \u001B[49m\u001B[38;5;241;43m*\u001B[39;49m\u001B[38;5;241;43m*\u001B[39;49m\u001B[43mkwargs\u001B[49m\u001B[43m)\u001B[49m\n",
       "\u001B[1;32m    298\u001B[0m     sig \u001B[38;5;241m=\u001B[39m inspect\u001B[38;5;241m.\u001B[39msignature(func)\n",
       "\u001B[1;32m    299\u001B[0m     params: Dict[\u001B[38;5;28mstr\u001B[39m, Any] \u001B[38;5;241m=\u001B[39m \u001B[38;5;28mdict\u001B[39m(\u001B[38;5;241m*\u001B[39m\u001B[38;5;241m*\u001B[39m\u001B[38;5;28mdict\u001B[39m(\u001B[38;5;28mzip\u001B[39m(sig\u001B[38;5;241m.\u001B[39mparameters, args)), \u001B[38;5;241m*\u001B[39m\u001B[38;5;241m*\u001B[39mkwargs)\n",
       "\n",
       "File \u001B[0;32m/local_disk0/.ephemeral_nfs/envs/pythonEnv-53ab9f13-a598-4dc8-967d-8cd64e7ba759/lib/python3.10/site-packages/unstructured/partition/pdf.py:183\u001B[0m, in \u001B[0;36mpartition_pdf\u001B[0;34m(filename, file, include_page_breaks, strategy, infer_table_structure, ocr_languages, languages, include_metadata, metadata_filename, metadata_last_modified, chunking_strategy, links, extract_images_in_pdf, image_output_dir_path, **kwargs)\u001B[0m\n",
       "\u001B[1;32m    177\u001B[0m         languages \u001B[38;5;241m=\u001B[39m convert_old_ocr_languages_to_languages(ocr_languages)\n",
       "\u001B[1;32m    178\u001B[0m         logger\u001B[38;5;241m.\u001B[39mwarning(\n",
       "\u001B[1;32m    179\u001B[0m             \u001B[38;5;124m\"\u001B[39m\u001B[38;5;124mThe ocr_languages kwarg will be deprecated in a future version of unstructured. \u001B[39m\u001B[38;5;124m\"\u001B[39m\n",
       "\u001B[1;32m    180\u001B[0m             \u001B[38;5;124m\"\u001B[39m\u001B[38;5;124mPlease use languages instead.\u001B[39m\u001B[38;5;124m\"\u001B[39m,\n",
       "\u001B[1;32m    181\u001B[0m         )\n",
       "\u001B[0;32m--> 183\u001B[0m \u001B[38;5;28;01mreturn\u001B[39;00m \u001B[43mpartition_pdf_or_image\u001B[49m\u001B[43m(\u001B[49m\n",
       "\u001B[1;32m    184\u001B[0m \u001B[43m    \u001B[49m\u001B[43mfilename\u001B[49m\u001B[38;5;241;43m=\u001B[39;49m\u001B[43mfilename\u001B[49m\u001B[43m,\u001B[49m\n",
       "\u001B[1;32m    185\u001B[0m \u001B[43m    \u001B[49m\u001B[43mfile\u001B[49m\u001B[38;5;241;43m=\u001B[39;49m\u001B[43mfile\u001B[49m\u001B[43m,\u001B[49m\n",
       "\u001B[1;32m    186\u001B[0m \u001B[43m    \u001B[49m\u001B[43minclude_page_breaks\u001B[49m\u001B[38;5;241;43m=\u001B[39;49m\u001B[43minclude_page_breaks\u001B[49m\u001B[43m,\u001B[49m\n",
       "\u001B[1;32m    187\u001B[0m \u001B[43m    \u001B[49m\u001B[43mstrategy\u001B[49m\u001B[38;5;241;43m=\u001B[39;49m\u001B[43mstrategy\u001B[49m\u001B[43m,\u001B[49m\n",
       "\u001B[1;32m    188\u001B[0m \u001B[43m    \u001B[49m\u001B[43minfer_table_structure\u001B[49m\u001B[38;5;241;43m=\u001B[39;49m\u001B[43minfer_table_structure\u001B[49m\u001B[43m,\u001B[49m\n",
       "\u001B[1;32m    189\u001B[0m \u001B[43m    \u001B[49m\u001B[43mlanguages\u001B[49m\u001B[38;5;241;43m=\u001B[39;49m\u001B[43mlanguages\u001B[49m\u001B[43m,\u001B[49m\n",
       "\u001B[1;32m    190\u001B[0m \u001B[43m    \u001B[49m\u001B[43mmetadata_last_modified\u001B[49m\u001B[38;5;241;43m=\u001B[39;49m\u001B[43mmetadata_last_modified\u001B[49m\u001B[43m,\u001B[49m\n",
       "\u001B[1;32m    191\u001B[0m \u001B[43m    \u001B[49m\u001B[43mextract_images_in_pdf\u001B[49m\u001B[38;5;241;43m=\u001B[39;49m\u001B[43mextract_images_in_pdf\u001B[49m\u001B[43m,\u001B[49m\n",
       "\u001B[1;32m    192\u001B[0m \u001B[43m    \u001B[49m\u001B[43mimage_output_dir_path\u001B[49m\u001B[38;5;241;43m=\u001B[39;49m\u001B[43mimage_output_dir_path\u001B[49m\u001B[43m,\u001B[49m\n",
       "\u001B[1;32m    193\u001B[0m \u001B[43m    \u001B[49m\u001B[38;5;241;43m*\u001B[39;49m\u001B[38;5;241;43m*\u001B[39;49m\u001B[43mkwargs\u001B[49m\u001B[43m,\u001B[49m\n",
       "\u001B[1;32m    194\u001B[0m \u001B[43m\u001B[49m\u001B[43m)\u001B[49m\n",
       "\n",
       "File \u001B[0;32m/local_disk0/.ephemeral_nfs/envs/pythonEnv-53ab9f13-a598-4dc8-967d-8cd64e7ba759/lib/python3.10/site-packages/unstructured/partition/pdf.py:315\u001B[0m, in \u001B[0;36mpartition_pdf_or_image\u001B[0;34m(filename, file, is_image, include_page_breaks, strategy, infer_table_structure, ocr_languages, languages, metadata_last_modified, extract_images_in_pdf, image_output_dir_path, **kwargs)\u001B[0m\n",
       "\u001B[1;32m    313\u001B[0m \u001B[38;5;28;01mwith\u001B[39;00m warnings\u001B[38;5;241m.\u001B[39mcatch_warnings():\n",
       "\u001B[1;32m    314\u001B[0m     warnings\u001B[38;5;241m.\u001B[39msimplefilter(\u001B[38;5;124m\"\u001B[39m\u001B[38;5;124mignore\u001B[39m\u001B[38;5;124m\"\u001B[39m)\n",
       "\u001B[0;32m--> 315\u001B[0m     _layout_elements \u001B[38;5;241m=\u001B[39m \u001B[43m_partition_pdf_or_image_local\u001B[49m\u001B[43m(\u001B[49m\n",
       "\u001B[1;32m    316\u001B[0m \u001B[43m        \u001B[49m\u001B[43mfilename\u001B[49m\u001B[38;5;241;43m=\u001B[39;49m\u001B[43mfilename\u001B[49m\u001B[43m,\u001B[49m\n",
       "\u001B[1;32m    317\u001B[0m \u001B[43m        \u001B[49m\u001B[43mfile\u001B[49m\u001B[38;5;241;43m=\u001B[39;49m\u001B[43mspooled_to_bytes_io_if_needed\u001B[49m\u001B[43m(\u001B[49m\u001B[43mfile\u001B[49m\u001B[43m)\u001B[49m\u001B[43m,\u001B[49m\n",
       "\u001B[1;32m    318\u001B[0m \u001B[43m        \u001B[49m\u001B[43mis_image\u001B[49m\u001B[38;5;241;43m=\u001B[39;49m\u001B[43mis_image\u001B[49m\u001B[43m,\u001B[49m\n",
       "\u001B[1;32m    319\u001B[0m \u001B[43m        \u001B[49m\u001B[43minfer_table_structure\u001B[49m\u001B[38;5;241;43m=\u001B[39;49m\u001B[43minfer_table_structure\u001B[49m\u001B[43m,\u001B[49m\n",
       "\u001B[1;32m    320\u001B[0m \u001B[43m        \u001B[49m\u001B[43minclude_page_breaks\u001B[49m\u001B[38;5;241;43m=\u001B[39;49m\u001B[43minclude_page_breaks\u001B[49m\u001B[43m,\u001B[49m\n",
       "\u001B[1;32m    321\u001B[0m \u001B[43m        \u001B[49m\u001B[43mlanguages\u001B[49m\u001B[38;5;241;43m=\u001B[39;49m\u001B[43mlanguages\u001B[49m\u001B[43m,\u001B[49m\n",
       "\u001B[1;32m    322\u001B[0m \u001B[43m        \u001B[49m\u001B[43mmetadata_last_modified\u001B[49m\u001B[38;5;241;43m=\u001B[39;49m\u001B[43mmetadata_last_modified\u001B[49m\u001B[43m \u001B[49m\u001B[38;5;129;43;01mor\u001B[39;49;00m\u001B[43m \u001B[49m\u001B[43mlast_modification_date\u001B[49m\u001B[43m,\u001B[49m\n",
       "\u001B[1;32m    323\u001B[0m \u001B[43m        \u001B[49m\u001B[43mextract_images_in_pdf\u001B[49m\u001B[38;5;241;43m=\u001B[39;49m\u001B[43mextract_images_in_pdf\u001B[49m\u001B[43m,\u001B[49m\n",
       "\u001B[1;32m    324\u001B[0m \u001B[43m        \u001B[49m\u001B[43mimage_output_dir_path\u001B[49m\u001B[38;5;241;43m=\u001B[39;49m\u001B[43mimage_output_dir_path\u001B[49m\u001B[43m,\u001B[49m\n",
       "\u001B[1;32m    325\u001B[0m \u001B[43m        \u001B[49m\u001B[38;5;241;43m*\u001B[39;49m\u001B[38;5;241;43m*\u001B[39;49m\u001B[43mkwargs\u001B[49m\u001B[43m,\u001B[49m\n",
       "\u001B[1;32m    326\u001B[0m \u001B[43m    \u001B[49m\u001B[43m)\u001B[49m\n",
       "\u001B[1;32m    327\u001B[0m     layout_elements \u001B[38;5;241m=\u001B[39m []\n",
       "\u001B[1;32m    328\u001B[0m     \u001B[38;5;28;01mfor\u001B[39;00m el \u001B[38;5;129;01min\u001B[39;00m _layout_elements:\n",
       "\n",
       "File \u001B[0;32m/local_disk0/.ephemeral_nfs/envs/pythonEnv-53ab9f13-a598-4dc8-967d-8cd64e7ba759/lib/python3.10/site-packages/unstructured/utils.py:179\u001B[0m, in \u001B[0;36mrequires_dependencies.<locals>.decorator.<locals>.wrapper\u001B[0;34m(*args, **kwargs)\u001B[0m\n",
       "\u001B[1;32m    170\u001B[0m \u001B[38;5;28;01mif\u001B[39;00m \u001B[38;5;28mlen\u001B[39m(missing_deps) \u001B[38;5;241m>\u001B[39m \u001B[38;5;241m0\u001B[39m:\n",
       "\u001B[1;32m    171\u001B[0m     \u001B[38;5;28;01mraise\u001B[39;00m \u001B[38;5;167;01mImportError\u001B[39;00m(\n",
       "\u001B[1;32m    172\u001B[0m         \u001B[38;5;124mf\u001B[39m\u001B[38;5;124m\"\u001B[39m\u001B[38;5;124mFollowing dependencies are missing: \u001B[39m\u001B[38;5;132;01m{\u001B[39;00m\u001B[38;5;124m'\u001B[39m\u001B[38;5;124m, \u001B[39m\u001B[38;5;124m'\u001B[39m\u001B[38;5;241m.\u001B[39mjoin(missing_deps)\u001B[38;5;132;01m}\u001B[39;00m\u001B[38;5;124m. \u001B[39m\u001B[38;5;124m\"\u001B[39m\n",
       "\u001B[1;32m    173\u001B[0m         \u001B[38;5;241m+\u001B[39m (\n",
       "\u001B[0;32m   (...)\u001B[0m\n",
       "\u001B[1;32m    177\u001B[0m         ),\n",
       "\u001B[1;32m    178\u001B[0m     )\n",
       "\u001B[0;32m--> 179\u001B[0m \u001B[38;5;28;01mreturn\u001B[39;00m \u001B[43mfunc\u001B[49m\u001B[43m(\u001B[49m\u001B[38;5;241;43m*\u001B[39;49m\u001B[43margs\u001B[49m\u001B[43m,\u001B[49m\u001B[43m \u001B[49m\u001B[38;5;241;43m*\u001B[39;49m\u001B[38;5;241;43m*\u001B[39;49m\u001B[43mkwargs\u001B[49m\u001B[43m)\u001B[49m\n",
       "\n",
       "File \u001B[0;32m/local_disk0/.ephemeral_nfs/envs/pythonEnv-53ab9f13-a598-4dc8-967d-8cd64e7ba759/lib/python3.10/site-packages/unstructured/partition/pdf.py:404\u001B[0m, in \u001B[0;36m_partition_pdf_or_image_local\u001B[0;34m(filename, file, is_image, infer_table_structure, include_page_breaks, languages, ocr_mode, model_name, metadata_last_modified, extract_images_in_pdf, image_output_dir_path, pdf_image_dpi, **kwargs)\u001B[0m\n",
       "\u001B[1;32m    397\u001B[0m     logger\u001B[38;5;241m.\u001B[39mwarning(\n",
       "\u001B[1;32m    398\u001B[0m         \u001B[38;5;124m\"\u001B[39m\u001B[38;5;124mThe Chipper model performs better when images are rendered with DPI >= 300 \u001B[39m\u001B[38;5;124m\"\u001B[39m\n",
       "\u001B[1;32m    399\u001B[0m         \u001B[38;5;124mf\u001B[39m\u001B[38;5;124m\"\u001B[39m\u001B[38;5;124m(currently \u001B[39m\u001B[38;5;132;01m{\u001B[39;00mpdf_image_dpi\u001B[38;5;132;01m}\u001B[39;00m\u001B[38;5;124m).\u001B[39m\u001B[38;5;124m\"\u001B[39m,\n",
       "\u001B[1;32m    400\u001B[0m     )\n",
       "\u001B[1;32m    402\u001B[0m \u001B[38;5;28;01mif\u001B[39;00m file \u001B[38;5;129;01mis\u001B[39;00m \u001B[38;5;28;01mNone\u001B[39;00m:\n",
       "\u001B[1;32m    403\u001B[0m     \u001B[38;5;66;03m# NOTE(christine): out_layout = extracted_layout + inferred_layout\u001B[39;00m\n",
       "\u001B[0;32m--> 404\u001B[0m     out_layout \u001B[38;5;241m=\u001B[39m \u001B[43mprocess_file_with_model\u001B[49m\u001B[43m(\u001B[49m\n",
       "\u001B[1;32m    405\u001B[0m \u001B[43m        \u001B[49m\u001B[43mfilename\u001B[49m\u001B[43m,\u001B[49m\n",
       "\u001B[1;32m    406\u001B[0m \u001B[43m        \u001B[49m\u001B[43mis_image\u001B[49m\u001B[38;5;241;43m=\u001B[39;49m\u001B[43mis_image\u001B[49m\u001B[43m,\u001B[49m\n",
       "\u001B[1;32m    407\u001B[0m \u001B[43m        \u001B[49m\u001B[43mmodel_name\u001B[49m\u001B[38;5;241;43m=\u001B[39;49m\u001B[43mmodel_name\u001B[49m\u001B[43m,\u001B[49m\n",
       "\u001B[1;32m    408\u001B[0m \u001B[43m        \u001B[49m\u001B[43mpdf_image_dpi\u001B[49m\u001B[38;5;241;43m=\u001B[39;49m\u001B[43mpdf_image_dpi\u001B[49m\u001B[43m,\u001B[49m\n",
       "\u001B[1;32m    409\u001B[0m \u001B[43m        \u001B[49m\u001B[43mextract_images_in_pdf\u001B[49m\u001B[38;5;241;43m=\u001B[39;49m\u001B[43mextract_images_in_pdf\u001B[49m\u001B[43m,\u001B[49m\n",
       "\u001B[1;32m    410\u001B[0m \u001B[43m        \u001B[49m\u001B[43mimage_output_dir_path\u001B[49m\u001B[38;5;241;43m=\u001B[39;49m\u001B[43mimage_output_dir_path\u001B[49m\u001B[43m,\u001B[49m\n",
       "\u001B[1;32m    411\u001B[0m \u001B[43m    \u001B[49m\u001B[43m)\u001B[49m\n",
       "\u001B[1;32m    412\u001B[0m     \u001B[38;5;28;01mif\u001B[39;00m model_name\u001B[38;5;241m.\u001B[39mstartswith(\u001B[38;5;124m\"\u001B[39m\u001B[38;5;124mchipper\u001B[39m\u001B[38;5;124m\"\u001B[39m):\n",
       "\u001B[1;32m    413\u001B[0m         \u001B[38;5;66;03m# NOTE(alan): We shouldn't do OCR with chipper\u001B[39;00m\n",
       "\u001B[1;32m    414\u001B[0m         final_layout \u001B[38;5;241m=\u001B[39m out_layout\n",
       "\n",
       "File \u001B[0;32m/local_disk0/.ephemeral_nfs/envs/pythonEnv-53ab9f13-a598-4dc8-967d-8cd64e7ba759/lib/python3.10/site-packages/unstructured_inference/inference/layout.py:499\u001B[0m, in \u001B[0;36mprocess_file_with_model\u001B[0;34m(filename, model_name, is_image, fixed_layouts, extract_tables, pdf_image_dpi, extract_images_in_pdf, image_output_dir_path, **kwargs)\u001B[0m\n",
       "\u001B[1;32m    488\u001B[0m \u001B[38;5;28;01melse\u001B[39;00m:\n",
       "\u001B[1;32m    489\u001B[0m     \u001B[38;5;28;01mraise\u001B[39;00m \u001B[38;5;167;01mValueError\u001B[39;00m(\u001B[38;5;124mf\u001B[39m\u001B[38;5;124m\"\u001B[39m\u001B[38;5;124mUnsupported model type: \u001B[39m\u001B[38;5;132;01m{\u001B[39;00m\u001B[38;5;28mtype\u001B[39m(model)\u001B[38;5;132;01m}\u001B[39;00m\u001B[38;5;124m\"\u001B[39m)\n",
       "\u001B[1;32m    490\u001B[0m layout \u001B[38;5;241m=\u001B[39m (\n",
       "\u001B[1;32m    491\u001B[0m     DocumentLayout\u001B[38;5;241m.\u001B[39mfrom_image_file(\n",
       "\u001B[1;32m    492\u001B[0m         filename,\n",
       "\u001B[1;32m    493\u001B[0m         detection_model\u001B[38;5;241m=\u001B[39mdetection_model,\n",
       "\u001B[1;32m    494\u001B[0m         element_extraction_model\u001B[38;5;241m=\u001B[39melement_extraction_model,\n",
       "\u001B[1;32m    495\u001B[0m         extract_tables\u001B[38;5;241m=\u001B[39mextract_tables,\n",
       "\u001B[1;32m    496\u001B[0m         \u001B[38;5;241m*\u001B[39m\u001B[38;5;241m*\u001B[39mkwargs,\n",
       "\u001B[1;32m    497\u001B[0m     )\n",
       "\u001B[1;32m    498\u001B[0m     \u001B[38;5;28;01mif\u001B[39;00m is_image\n",
       "\u001B[0;32m--> 499\u001B[0m     \u001B[38;5;28;01melse\u001B[39;00m \u001B[43mDocumentLayout\u001B[49m\u001B[38;5;241;43m.\u001B[39;49m\u001B[43mfrom_file\u001B[49m\u001B[43m(\u001B[49m\n",
       "\u001B[1;32m    500\u001B[0m \u001B[43m        \u001B[49m\u001B[43mfilename\u001B[49m\u001B[43m,\u001B[49m\n",
       "\u001B[1;32m    501\u001B[0m \u001B[43m        \u001B[49m\u001B[43mdetection_model\u001B[49m\u001B[38;5;241;43m=\u001B[39;49m\u001B[43mdetection_model\u001B[49m\u001B[43m,\u001B[49m\n",
       "\u001B[1;32m    502\u001B[0m \u001B[43m        \u001B[49m\u001B[43melement_extraction_model\u001B[49m\u001B[38;5;241;43m=\u001B[39;49m\u001B[43melement_extraction_model\u001B[49m\u001B[43m,\u001B[49m\n",
       "\u001B[1;32m    503\u001B[0m \u001B[43m        \u001B[49m\u001B[43mfixed_layouts\u001B[49m\u001B[38;5;241;43m=\u001B[39;49m\u001B[43mfixed_layouts\u001B[49m\u001B[43m,\u001B[49m\n",
       "\u001B[1;32m    504\u001B[0m \u001B[43m        \u001B[49m\u001B[43mextract_tables\u001B[49m\u001B[38;5;241;43m=\u001B[39;49m\u001B[43mextract_tables\u001B[49m\u001B[43m,\u001B[49m\n",
       "\u001B[1;32m    505\u001B[0m \u001B[43m        \u001B[49m\u001B[43mpdf_image_dpi\u001B[49m\u001B[38;5;241;43m=\u001B[39;49m\u001B[43mpdf_image_dpi\u001B[49m\u001B[43m,\u001B[49m\n",
       "\u001B[1;32m    506\u001B[0m \u001B[43m        \u001B[49m\u001B[43mextract_images_in_pdf\u001B[49m\u001B[38;5;241;43m=\u001B[39;49m\u001B[43mextract_images_in_pdf\u001B[49m\u001B[43m,\u001B[49m\n",
       "\u001B[1;32m    507\u001B[0m \u001B[43m        \u001B[49m\u001B[43mimage_output_dir_path\u001B[49m\u001B[38;5;241;43m=\u001B[39;49m\u001B[43mimage_output_dir_path\u001B[49m\u001B[43m,\u001B[49m\n",
       "\u001B[1;32m    508\u001B[0m \u001B[43m        \u001B[49m\u001B[38;5;241;43m*\u001B[39;49m\u001B[38;5;241;43m*\u001B[39;49m\u001B[43mkwargs\u001B[49m\u001B[43m,\u001B[49m\n",
       "\u001B[1;32m    509\u001B[0m \u001B[43m    \u001B[49m\u001B[43m)\u001B[49m\n",
       "\u001B[1;32m    510\u001B[0m )\n",
       "\u001B[1;32m    511\u001B[0m \u001B[38;5;28;01mreturn\u001B[39;00m layout\n",
       "\n",
       "File \u001B[0;32m/local_disk0/.ephemeral_nfs/envs/pythonEnv-53ab9f13-a598-4dc8-967d-8cd64e7ba759/lib/python3.10/site-packages/unstructured_inference/inference/layout.py:82\u001B[0m, in \u001B[0;36mDocumentLayout.from_file\u001B[0;34m(cls, filename, fixed_layouts, pdf_image_dpi, **kwargs)\u001B[0m\n",
       "\u001B[1;32m     79\u001B[0m logger\u001B[38;5;241m.\u001B[39minfo(\u001B[38;5;124mf\u001B[39m\u001B[38;5;124m\"\u001B[39m\u001B[38;5;124mReading PDF for file: \u001B[39m\u001B[38;5;132;01m{\u001B[39;00mfilename\u001B[38;5;132;01m}\u001B[39;00m\u001B[38;5;124m ...\u001B[39m\u001B[38;5;124m\"\u001B[39m)\n",
       "\u001B[1;32m     81\u001B[0m \u001B[38;5;28;01mwith\u001B[39;00m tempfile\u001B[38;5;241m.\u001B[39mTemporaryDirectory() \u001B[38;5;28;01mas\u001B[39;00m temp_dir:\n",
       "\u001B[0;32m---> 82\u001B[0m     layouts, _image_paths \u001B[38;5;241m=\u001B[39m \u001B[43mload_pdf\u001B[49m\u001B[43m(\u001B[49m\n",
       "\u001B[1;32m     83\u001B[0m \u001B[43m        \u001B[49m\u001B[43mfilename\u001B[49m\u001B[43m,\u001B[49m\n",
       "\u001B[1;32m     84\u001B[0m \u001B[43m        \u001B[49m\u001B[43mpdf_image_dpi\u001B[49m\u001B[43m,\u001B[49m\n",
       "\u001B[1;32m     85\u001B[0m \u001B[43m        \u001B[49m\u001B[43moutput_folder\u001B[49m\u001B[38;5;241;43m=\u001B[39;49m\u001B[43mtemp_dir\u001B[49m\u001B[43m,\u001B[49m\n",
       "\u001B[1;32m     86\u001B[0m \u001B[43m        \u001B[49m\u001B[43mpath_only\u001B[49m\u001B[38;5;241;43m=\u001B[39;49m\u001B[38;5;28;43;01mTrue\u001B[39;49;00m\u001B[43m,\u001B[49m\n",
       "\u001B[1;32m     87\u001B[0m \u001B[43m    \u001B[49m\u001B[43m)\u001B[49m\n",
       "\u001B[1;32m     88\u001B[0m     image_paths \u001B[38;5;241m=\u001B[39m cast(List[\u001B[38;5;28mstr\u001B[39m], _image_paths)\n",
       "\u001B[1;32m     89\u001B[0m     \u001B[38;5;28;01mif\u001B[39;00m \u001B[38;5;28mlen\u001B[39m(layouts) \u001B[38;5;241m>\u001B[39m \u001B[38;5;28mlen\u001B[39m(image_paths):\n",
       "\n",
       "File \u001B[0;32m/local_disk0/.ephemeral_nfs/envs/pythonEnv-53ab9f13-a598-4dc8-967d-8cd64e7ba759/lib/python3.10/site-packages/unstructured_inference/inference/layout.py:581\u001B[0m, in \u001B[0;36mload_pdf\u001B[0;34m(filename, dpi, output_folder, path_only)\u001B[0m\n",
       "\u001B[1;32m    578\u001B[0m     \u001B[38;5;28;01mraise\u001B[39;00m \u001B[38;5;167;01mValueError\u001B[39;00m(\u001B[38;5;124m\"\u001B[39m\u001B[38;5;124moutput_folder must be specified if path_only is true\u001B[39m\u001B[38;5;124m\"\u001B[39m)\n",
       "\u001B[1;32m    580\u001B[0m \u001B[38;5;28;01mif\u001B[39;00m output_folder \u001B[38;5;129;01mis\u001B[39;00m \u001B[38;5;129;01mnot\u001B[39;00m \u001B[38;5;28;01mNone\u001B[39;00m:\n",
       "\u001B[0;32m--> 581\u001B[0m     images \u001B[38;5;241m=\u001B[39m \u001B[43mpdf2image\u001B[49m\u001B[38;5;241;43m.\u001B[39;49m\u001B[43mconvert_from_path\u001B[49m\u001B[43m(\u001B[49m\n",
       "\u001B[1;32m    582\u001B[0m \u001B[43m        \u001B[49m\u001B[43mfilename\u001B[49m\u001B[43m,\u001B[49m\n",
       "\u001B[1;32m    583\u001B[0m \u001B[43m        \u001B[49m\u001B[43mdpi\u001B[49m\u001B[38;5;241;43m=\u001B[39;49m\u001B[43mdpi\u001B[49m\u001B[43m,\u001B[49m\n",
       "\u001B[1;32m    584\u001B[0m \u001B[43m        \u001B[49m\u001B[43moutput_folder\u001B[49m\u001B[38;5;241;43m=\u001B[39;49m\u001B[43moutput_folder\u001B[49m\u001B[43m,\u001B[49m\n",
       "\u001B[1;32m    585\u001B[0m \u001B[43m        \u001B[49m\u001B[43mpaths_only\u001B[49m\u001B[38;5;241;43m=\u001B[39;49m\u001B[43mpath_only\u001B[49m\u001B[43m,\u001B[49m\n",
       "\u001B[1;32m    586\u001B[0m \u001B[43m    \u001B[49m\u001B[43m)\u001B[49m\n",
       "\u001B[1;32m    587\u001B[0m \u001B[38;5;28;01melse\u001B[39;00m:\n",
       "\u001B[1;32m    588\u001B[0m     images \u001B[38;5;241m=\u001B[39m pdf2image\u001B[38;5;241m.\u001B[39mconvert_from_path(\n",
       "\u001B[1;32m    589\u001B[0m         filename,\n",
       "\u001B[1;32m    590\u001B[0m         dpi\u001B[38;5;241m=\u001B[39mdpi,\n",
       "\u001B[1;32m    591\u001B[0m         paths_only\u001B[38;5;241m=\u001B[39mpath_only,\n",
       "\u001B[1;32m    592\u001B[0m     )\n",
       "\n",
       "File \u001B[0;32m/local_disk0/.ephemeral_nfs/envs/pythonEnv-53ab9f13-a598-4dc8-967d-8cd64e7ba759/lib/python3.10/site-packages/pdf2image/pdf2image.py:127\u001B[0m, in \u001B[0;36mconvert_from_path\u001B[0;34m(pdf_path, dpi, output_folder, first_page, last_page, fmt, jpegopt, thread_count, userpw, ownerpw, use_cropbox, strict, transparent, single_file, output_file, poppler_path, grayscale, size, paths_only, use_pdftocairo, timeout, hide_annotations)\u001B[0m\n",
       "\u001B[1;32m    124\u001B[0m \u001B[38;5;28;01mif\u001B[39;00m \u001B[38;5;28misinstance\u001B[39m(poppler_path, PurePath):\n",
       "\u001B[1;32m    125\u001B[0m     poppler_path \u001B[38;5;241m=\u001B[39m poppler_path\u001B[38;5;241m.\u001B[39mas_posix()\n",
       "\u001B[0;32m--> 127\u001B[0m page_count \u001B[38;5;241m=\u001B[39m \u001B[43mpdfinfo_from_path\u001B[49m\u001B[43m(\u001B[49m\n",
       "\u001B[1;32m    128\u001B[0m \u001B[43m    \u001B[49m\u001B[43mpdf_path\u001B[49m\u001B[43m,\u001B[49m\u001B[43m \u001B[49m\u001B[43muserpw\u001B[49m\u001B[43m,\u001B[49m\u001B[43m \u001B[49m\u001B[43mownerpw\u001B[49m\u001B[43m,\u001B[49m\u001B[43m \u001B[49m\u001B[43mpoppler_path\u001B[49m\u001B[38;5;241;43m=\u001B[39;49m\u001B[43mpoppler_path\u001B[49m\n",
       "\u001B[1;32m    129\u001B[0m \u001B[43m\u001B[49m\u001B[43m)\u001B[49m[\u001B[38;5;124m\"\u001B[39m\u001B[38;5;124mPages\u001B[39m\u001B[38;5;124m\"\u001B[39m]\n",
       "\u001B[1;32m    131\u001B[0m \u001B[38;5;66;03m# We start by getting the output format, the buffer processing function and if we need pdftocairo\u001B[39;00m\n",
       "\u001B[1;32m    132\u001B[0m parsed_fmt, final_extension, parse_buffer_func, use_pdfcairo_format \u001B[38;5;241m=\u001B[39m _parse_format(\n",
       "\u001B[1;32m    133\u001B[0m     fmt, grayscale\n",
       "\u001B[1;32m    134\u001B[0m )\n",
       "\n",
       "File \u001B[0;32m/local_disk0/.ephemeral_nfs/envs/pythonEnv-53ab9f13-a598-4dc8-967d-8cd64e7ba759/lib/python3.10/site-packages/pdf2image/pdf2image.py:607\u001B[0m, in \u001B[0;36mpdfinfo_from_path\u001B[0;34m(pdf_path, userpw, ownerpw, poppler_path, rawdates, timeout, first_page, last_page)\u001B[0m\n",
       "\u001B[1;32m    604\u001B[0m     \u001B[38;5;28;01mreturn\u001B[39;00m d\n",
       "\u001B[1;32m    606\u001B[0m \u001B[38;5;28;01mexcept\u001B[39;00m \u001B[38;5;167;01mOSError\u001B[39;00m:\n",
       "\u001B[0;32m--> 607\u001B[0m     \u001B[38;5;28;01mraise\u001B[39;00m PDFInfoNotInstalledError(\n",
       "\u001B[1;32m    608\u001B[0m         \u001B[38;5;124m\"\u001B[39m\u001B[38;5;124mUnable to get page count. Is poppler installed and in PATH?\u001B[39m\u001B[38;5;124m\"\u001B[39m\n",
       "\u001B[1;32m    609\u001B[0m     )\n",
       "\u001B[1;32m    610\u001B[0m \u001B[38;5;28;01mexcept\u001B[39;00m \u001B[38;5;167;01mValueError\u001B[39;00m:\n",
       "\u001B[1;32m    611\u001B[0m     \u001B[38;5;28;01mraise\u001B[39;00m PDFPageCountError(\n",
       "\u001B[1;32m    612\u001B[0m         \u001B[38;5;124mf\u001B[39m\u001B[38;5;124m\"\u001B[39m\u001B[38;5;124mUnable to get page count.\u001B[39m\u001B[38;5;130;01m\\n\u001B[39;00m\u001B[38;5;132;01m{\u001B[39;00merr\u001B[38;5;241m.\u001B[39mdecode(\u001B[38;5;124m'\u001B[39m\u001B[38;5;124mutf8\u001B[39m\u001B[38;5;124m'\u001B[39m, \u001B[38;5;124m'\u001B[39m\u001B[38;5;124mignore\u001B[39m\u001B[38;5;124m'\u001B[39m)\u001B[38;5;132;01m}\u001B[39;00m\u001B[38;5;124m\"\u001B[39m\n",
       "\u001B[1;32m    613\u001B[0m     )\n",
       "\n",
       "\u001B[0;31mPDFInfoNotInstalledError\u001B[0m: Unable to get page count. Is poppler installed and in PATH?"
      ]
     },
     "metadata": {
      "application/vnd.databricks.v1+output": {
       "addedWidgets": {},
       "arguments": {},
       "datasetInfos": [],
       "jupyterProps": {
        "ename": "PDFInfoNotInstalledError",
        "evalue": "Unable to get page count. Is poppler installed and in PATH?"
       },
       "metadata": {
        "errorSummary": "<span class='ansi-red-fg'>PDFInfoNotInstalledError</span>: Unable to get page count. Is poppler installed and in PATH?"
       },
       "removedWidgets": [],
       "sqlProps": null,
       "stackFrames": [
        "\u001B[0;31m---------------------------------------------------------------------------\u001B[0m",
        "\u001B[0;31mFileNotFoundError\u001B[0m                         Traceback (most recent call last)",
        "File \u001B[0;32m/local_disk0/.ephemeral_nfs/envs/pythonEnv-53ab9f13-a598-4dc8-967d-8cd64e7ba759/lib/python3.10/site-packages/pdf2image/pdf2image.py:581\u001B[0m, in \u001B[0;36mpdfinfo_from_path\u001B[0;34m(pdf_path, userpw, ownerpw, poppler_path, rawdates, timeout, first_page, last_page)\u001B[0m\n\u001B[1;32m    580\u001B[0m     env[\u001B[38;5;124m\"\u001B[39m\u001B[38;5;124mLD_LIBRARY_PATH\u001B[39m\u001B[38;5;124m\"\u001B[39m] \u001B[38;5;241m=\u001B[39m poppler_path \u001B[38;5;241m+\u001B[39m \u001B[38;5;124m\"\u001B[39m\u001B[38;5;124m:\u001B[39m\u001B[38;5;124m\"\u001B[39m \u001B[38;5;241m+\u001B[39m env\u001B[38;5;241m.\u001B[39mget(\u001B[38;5;124m\"\u001B[39m\u001B[38;5;124mLD_LIBRARY_PATH\u001B[39m\u001B[38;5;124m\"\u001B[39m, \u001B[38;5;124m\"\u001B[39m\u001B[38;5;124m\"\u001B[39m)\n\u001B[0;32m--> 581\u001B[0m proc \u001B[38;5;241m=\u001B[39m \u001B[43mPopen\u001B[49m\u001B[43m(\u001B[49m\u001B[43mcommand\u001B[49m\u001B[43m,\u001B[49m\u001B[43m \u001B[49m\u001B[43menv\u001B[49m\u001B[38;5;241;43m=\u001B[39;49m\u001B[43menv\u001B[49m\u001B[43m,\u001B[49m\u001B[43m \u001B[49m\u001B[43mstdout\u001B[49m\u001B[38;5;241;43m=\u001B[39;49m\u001B[43mPIPE\u001B[49m\u001B[43m,\u001B[49m\u001B[43m \u001B[49m\u001B[43mstderr\u001B[49m\u001B[38;5;241;43m=\u001B[39;49m\u001B[43mPIPE\u001B[49m\u001B[43m)\u001B[49m\n\u001B[1;32m    583\u001B[0m \u001B[38;5;28;01mtry\u001B[39;00m:\n",
        "File \u001B[0;32m/usr/lib/python3.10/subprocess.py:971\u001B[0m, in \u001B[0;36mPopen.__init__\u001B[0;34m(self, args, bufsize, executable, stdin, stdout, stderr, preexec_fn, close_fds, shell, cwd, env, universal_newlines, startupinfo, creationflags, restore_signals, start_new_session, pass_fds, user, group, extra_groups, encoding, errors, text, umask, pipesize)\u001B[0m\n\u001B[1;32m    968\u001B[0m             \u001B[38;5;28mself\u001B[39m\u001B[38;5;241m.\u001B[39mstderr \u001B[38;5;241m=\u001B[39m io\u001B[38;5;241m.\u001B[39mTextIOWrapper(\u001B[38;5;28mself\u001B[39m\u001B[38;5;241m.\u001B[39mstderr,\n\u001B[1;32m    969\u001B[0m                     encoding\u001B[38;5;241m=\u001B[39mencoding, errors\u001B[38;5;241m=\u001B[39merrors)\n\u001B[0;32m--> 971\u001B[0m     \u001B[38;5;28;43mself\u001B[39;49m\u001B[38;5;241;43m.\u001B[39;49m\u001B[43m_execute_child\u001B[49m\u001B[43m(\u001B[49m\u001B[43margs\u001B[49m\u001B[43m,\u001B[49m\u001B[43m \u001B[49m\u001B[43mexecutable\u001B[49m\u001B[43m,\u001B[49m\u001B[43m \u001B[49m\u001B[43mpreexec_fn\u001B[49m\u001B[43m,\u001B[49m\u001B[43m \u001B[49m\u001B[43mclose_fds\u001B[49m\u001B[43m,\u001B[49m\n\u001B[1;32m    972\u001B[0m \u001B[43m                        \u001B[49m\u001B[43mpass_fds\u001B[49m\u001B[43m,\u001B[49m\u001B[43m \u001B[49m\u001B[43mcwd\u001B[49m\u001B[43m,\u001B[49m\u001B[43m \u001B[49m\u001B[43menv\u001B[49m\u001B[43m,\u001B[49m\n\u001B[1;32m    973\u001B[0m \u001B[43m                        \u001B[49m\u001B[43mstartupinfo\u001B[49m\u001B[43m,\u001B[49m\u001B[43m \u001B[49m\u001B[43mcreationflags\u001B[49m\u001B[43m,\u001B[49m\u001B[43m \u001B[49m\u001B[43mshell\u001B[49m\u001B[43m,\u001B[49m\n\u001B[1;32m    974\u001B[0m \u001B[43m                        \u001B[49m\u001B[43mp2cread\u001B[49m\u001B[43m,\u001B[49m\u001B[43m \u001B[49m\u001B[43mp2cwrite\u001B[49m\u001B[43m,\u001B[49m\n\u001B[1;32m    975\u001B[0m \u001B[43m                        \u001B[49m\u001B[43mc2pread\u001B[49m\u001B[43m,\u001B[49m\u001B[43m \u001B[49m\u001B[43mc2pwrite\u001B[49m\u001B[43m,\u001B[49m\n\u001B[1;32m    976\u001B[0m \u001B[43m                        \u001B[49m\u001B[43merrread\u001B[49m\u001B[43m,\u001B[49m\u001B[43m \u001B[49m\u001B[43merrwrite\u001B[49m\u001B[43m,\u001B[49m\n\u001B[1;32m    977\u001B[0m \u001B[43m                        \u001B[49m\u001B[43mrestore_signals\u001B[49m\u001B[43m,\u001B[49m\n\u001B[1;32m    978\u001B[0m \u001B[43m                        \u001B[49m\u001B[43mgid\u001B[49m\u001B[43m,\u001B[49m\u001B[43m \u001B[49m\u001B[43mgids\u001B[49m\u001B[43m,\u001B[49m\u001B[43m \u001B[49m\u001B[43muid\u001B[49m\u001B[43m,\u001B[49m\u001B[43m \u001B[49m\u001B[43mumask\u001B[49m\u001B[43m,\u001B[49m\n\u001B[1;32m    979\u001B[0m \u001B[43m                        \u001B[49m\u001B[43mstart_new_session\u001B[49m\u001B[43m)\u001B[49m\n\u001B[1;32m    980\u001B[0m \u001B[38;5;28;01mexcept\u001B[39;00m:\n\u001B[1;32m    981\u001B[0m     \u001B[38;5;66;03m# Cleanup if the child failed starting.\u001B[39;00m\n",
        "File \u001B[0;32m/usr/lib/python3.10/subprocess.py:1863\u001B[0m, in \u001B[0;36mPopen._execute_child\u001B[0;34m(self, args, executable, preexec_fn, close_fds, pass_fds, cwd, env, startupinfo, creationflags, shell, p2cread, p2cwrite, c2pread, c2pwrite, errread, errwrite, restore_signals, gid, gids, uid, umask, start_new_session)\u001B[0m\n\u001B[1;32m   1862\u001B[0m         err_msg \u001B[38;5;241m=\u001B[39m os\u001B[38;5;241m.\u001B[39mstrerror(errno_num)\n\u001B[0;32m-> 1863\u001B[0m     \u001B[38;5;28;01mraise\u001B[39;00m child_exception_type(errno_num, err_msg, err_filename)\n\u001B[1;32m   1864\u001B[0m \u001B[38;5;28;01mraise\u001B[39;00m child_exception_type(err_msg)\n",
        "\u001B[0;31mFileNotFoundError\u001B[0m: [Errno 2] No such file or directory: 'pdfinfo'",
        "\nDuring handling of the above exception, another exception occurred:\n",
        "\u001B[0;31mPDFInfoNotInstalledError\u001B[0m                  Traceback (most recent call last)",
        "File \u001B[0;32m<command-899513014180804>, line 2\u001B[0m\n\u001B[1;32m      1\u001B[0m \u001B[38;5;28mprint\u001B[39m (filename_homereport)\n\u001B[0;32m----> 2\u001B[0m pdf_elements_digital \u001B[38;5;241m=\u001B[39m partition_pdf(\n\u001B[1;32m      3\u001B[0m     filename\u001B[38;5;241m=\u001B[39mfilename_homereport,\n\u001B[1;32m      4\u001B[0m     extract_images_in_pdf\u001B[38;5;241m=\u001B[39m\u001B[38;5;28;01mTrue\u001B[39;00m,\n\u001B[1;32m      5\u001B[0m     infer_table_structure\u001B[38;5;241m=\u001B[39m\u001B[38;5;28;01mTrue\u001B[39;00m,\n\u001B[1;32m      6\u001B[0m     strategy\u001B[38;5;241m=\u001B[39m\u001B[38;5;124m\"\u001B[39m\u001B[38;5;124mhi_res\u001B[39m\u001B[38;5;124m\"\u001B[39m,\n\u001B[1;32m      7\u001B[0m     extract_image_block_types\u001B[38;5;241m=\u001B[39m[\u001B[38;5;124m\"\u001B[39m\u001B[38;5;124mImage\u001B[39m\u001B[38;5;124m\"\u001B[39m, \u001B[38;5;124m\"\u001B[39m\u001B[38;5;124mTable\u001B[39m\u001B[38;5;124m\"\u001B[39m],\n\u001B[1;32m      8\u001B[0m     extract_image_block_to_payload\u001B[38;5;241m=\u001B[39m\u001B[38;5;28;01mFalse\u001B[39;00m,\n\u001B[1;32m      9\u001B[0m     max_characters\u001B[38;5;241m=\u001B[39m\u001B[38;5;241m4000\u001B[39m,\n\u001B[1;32m     10\u001B[0m     new_after_n_chars\u001B[38;5;241m=\u001B[39m\u001B[38;5;241m3800\u001B[39m,\n\u001B[1;32m     11\u001B[0m     combine_text_under_n_chars\u001B[38;5;241m=\u001B[39m\u001B[38;5;241m2000\u001B[39m,\n\u001B[1;32m     12\u001B[0m     image_output_dir_path\u001B[38;5;241m=\u001B[39m\u001B[38;5;124mf\u001B[39m\u001B[38;5;124m\"\u001B[39m\u001B[38;5;124m/Volumes/home-inspection-gpt/default/pdf-images\u001B[39m\u001B[38;5;124m\"\u001B[39m,\n\u001B[1;32m     13\u001B[0m     extract_image_block_output_dir\u001B[38;5;241m=\u001B[39m\u001B[38;5;124m\"\u001B[39m\u001B[38;5;124m/Volumes/home-inspection-gpt/default/output-image-block\u001B[39m\u001B[38;5;124m\"\u001B[39m,\n\u001B[1;32m     14\u001B[0m )\n",
        "File \u001B[0;32m/local_disk0/.ephemeral_nfs/envs/pythonEnv-53ab9f13-a598-4dc8-967d-8cd64e7ba759/lib/python3.10/site-packages/unstructured/documents/elements.py:371\u001B[0m, in \u001B[0;36mprocess_metadata.<locals>.decorator.<locals>.wrapper\u001B[0;34m(*args, **kwargs)\u001B[0m\n\u001B[1;32m    369\u001B[0m \u001B[38;5;129m@functools\u001B[39m\u001B[38;5;241m.\u001B[39mwraps(func)\n\u001B[1;32m    370\u001B[0m \u001B[38;5;28;01mdef\u001B[39;00m \u001B[38;5;21mwrapper\u001B[39m(\u001B[38;5;241m*\u001B[39margs: _P\u001B[38;5;241m.\u001B[39margs, \u001B[38;5;241m*\u001B[39m\u001B[38;5;241m*\u001B[39mkwargs: _P\u001B[38;5;241m.\u001B[39mkwargs) \u001B[38;5;241m-\u001B[39m\u001B[38;5;241m>\u001B[39m List[Element]:\n\u001B[0;32m--> 371\u001B[0m     elements \u001B[38;5;241m=\u001B[39m \u001B[43mfunc\u001B[49m\u001B[43m(\u001B[49m\u001B[38;5;241;43m*\u001B[39;49m\u001B[43margs\u001B[49m\u001B[43m,\u001B[49m\u001B[43m \u001B[49m\u001B[38;5;241;43m*\u001B[39;49m\u001B[38;5;241;43m*\u001B[39;49m\u001B[43mkwargs\u001B[49m\u001B[43m)\u001B[49m\n\u001B[1;32m    372\u001B[0m     sig \u001B[38;5;241m=\u001B[39m inspect\u001B[38;5;241m.\u001B[39msignature(func)\n\u001B[1;32m    373\u001B[0m     params: Dict[\u001B[38;5;28mstr\u001B[39m, Any] \u001B[38;5;241m=\u001B[39m \u001B[38;5;28mdict\u001B[39m(\u001B[38;5;241m*\u001B[39m\u001B[38;5;241m*\u001B[39m\u001B[38;5;28mdict\u001B[39m(\u001B[38;5;28mzip\u001B[39m(sig\u001B[38;5;241m.\u001B[39mparameters, args)), \u001B[38;5;241m*\u001B[39m\u001B[38;5;241m*\u001B[39mkwargs)\n",
        "File \u001B[0;32m/local_disk0/.ephemeral_nfs/envs/pythonEnv-53ab9f13-a598-4dc8-967d-8cd64e7ba759/lib/python3.10/site-packages/unstructured/file_utils/filetype.py:591\u001B[0m, in \u001B[0;36madd_filetype.<locals>.decorator.<locals>.wrapper\u001B[0;34m(*args, **kwargs)\u001B[0m\n\u001B[1;32m    589\u001B[0m \u001B[38;5;129m@functools\u001B[39m\u001B[38;5;241m.\u001B[39mwraps(func)\n\u001B[1;32m    590\u001B[0m \u001B[38;5;28;01mdef\u001B[39;00m \u001B[38;5;21mwrapper\u001B[39m(\u001B[38;5;241m*\u001B[39margs: _P\u001B[38;5;241m.\u001B[39margs, \u001B[38;5;241m*\u001B[39m\u001B[38;5;241m*\u001B[39mkwargs: _P\u001B[38;5;241m.\u001B[39mkwargs) \u001B[38;5;241m-\u001B[39m\u001B[38;5;241m>\u001B[39m List[Element]:\n\u001B[0;32m--> 591\u001B[0m     elements \u001B[38;5;241m=\u001B[39m \u001B[43mfunc\u001B[49m\u001B[43m(\u001B[49m\u001B[38;5;241;43m*\u001B[39;49m\u001B[43margs\u001B[49m\u001B[43m,\u001B[49m\u001B[43m \u001B[49m\u001B[38;5;241;43m*\u001B[39;49m\u001B[38;5;241;43m*\u001B[39;49m\u001B[43mkwargs\u001B[49m\u001B[43m)\u001B[49m\n\u001B[1;32m    592\u001B[0m     sig \u001B[38;5;241m=\u001B[39m inspect\u001B[38;5;241m.\u001B[39msignature(func)\n\u001B[1;32m    593\u001B[0m     params: Dict[\u001B[38;5;28mstr\u001B[39m, Any] \u001B[38;5;241m=\u001B[39m \u001B[38;5;28mdict\u001B[39m(\u001B[38;5;241m*\u001B[39m\u001B[38;5;241m*\u001B[39m\u001B[38;5;28mdict\u001B[39m(\u001B[38;5;28mzip\u001B[39m(sig\u001B[38;5;241m.\u001B[39mparameters, args)), \u001B[38;5;241m*\u001B[39m\u001B[38;5;241m*\u001B[39mkwargs)\n",
        "File \u001B[0;32m/local_disk0/.ephemeral_nfs/envs/pythonEnv-53ab9f13-a598-4dc8-967d-8cd64e7ba759/lib/python3.10/site-packages/unstructured/file_utils/filetype.py:546\u001B[0m, in \u001B[0;36madd_metadata.<locals>.wrapper\u001B[0;34m(*args, **kwargs)\u001B[0m\n\u001B[1;32m    544\u001B[0m \u001B[38;5;129m@functools\u001B[39m\u001B[38;5;241m.\u001B[39mwraps(func)\n\u001B[1;32m    545\u001B[0m \u001B[38;5;28;01mdef\u001B[39;00m \u001B[38;5;21mwrapper\u001B[39m(\u001B[38;5;241m*\u001B[39margs: _P\u001B[38;5;241m.\u001B[39margs, \u001B[38;5;241m*\u001B[39m\u001B[38;5;241m*\u001B[39mkwargs: _P\u001B[38;5;241m.\u001B[39mkwargs) \u001B[38;5;241m-\u001B[39m\u001B[38;5;241m>\u001B[39m List[Element]:\n\u001B[0;32m--> 546\u001B[0m     elements \u001B[38;5;241m=\u001B[39m \u001B[43mfunc\u001B[49m\u001B[43m(\u001B[49m\u001B[38;5;241;43m*\u001B[39;49m\u001B[43margs\u001B[49m\u001B[43m,\u001B[49m\u001B[43m \u001B[49m\u001B[38;5;241;43m*\u001B[39;49m\u001B[38;5;241;43m*\u001B[39;49m\u001B[43mkwargs\u001B[49m\u001B[43m)\u001B[49m\n\u001B[1;32m    547\u001B[0m     sig \u001B[38;5;241m=\u001B[39m inspect\u001B[38;5;241m.\u001B[39msignature(func)\n\u001B[1;32m    548\u001B[0m     params: Dict[\u001B[38;5;28mstr\u001B[39m, Any] \u001B[38;5;241m=\u001B[39m \u001B[38;5;28mdict\u001B[39m(\u001B[38;5;241m*\u001B[39m\u001B[38;5;241m*\u001B[39m\u001B[38;5;28mdict\u001B[39m(\u001B[38;5;28mzip\u001B[39m(sig\u001B[38;5;241m.\u001B[39mparameters, args)), \u001B[38;5;241m*\u001B[39m\u001B[38;5;241m*\u001B[39mkwargs)\n",
        "File \u001B[0;32m/local_disk0/.ephemeral_nfs/envs/pythonEnv-53ab9f13-a598-4dc8-967d-8cd64e7ba759/lib/python3.10/site-packages/unstructured/chunking/title.py:297\u001B[0m, in \u001B[0;36madd_chunking_strategy.<locals>.decorator.<locals>.wrapper\u001B[0;34m(*args, **kwargs)\u001B[0m\n\u001B[1;32m    295\u001B[0m \u001B[38;5;129m@functools\u001B[39m\u001B[38;5;241m.\u001B[39mwraps(func)\n\u001B[1;32m    296\u001B[0m \u001B[38;5;28;01mdef\u001B[39;00m \u001B[38;5;21mwrapper\u001B[39m(\u001B[38;5;241m*\u001B[39margs: _P\u001B[38;5;241m.\u001B[39margs, \u001B[38;5;241m*\u001B[39m\u001B[38;5;241m*\u001B[39mkwargs: _P\u001B[38;5;241m.\u001B[39mkwargs) \u001B[38;5;241m-\u001B[39m\u001B[38;5;241m>\u001B[39m List[Element]:\n\u001B[0;32m--> 297\u001B[0m     elements \u001B[38;5;241m=\u001B[39m \u001B[43mfunc\u001B[49m\u001B[43m(\u001B[49m\u001B[38;5;241;43m*\u001B[39;49m\u001B[43margs\u001B[49m\u001B[43m,\u001B[49m\u001B[43m \u001B[49m\u001B[38;5;241;43m*\u001B[39;49m\u001B[38;5;241;43m*\u001B[39;49m\u001B[43mkwargs\u001B[49m\u001B[43m)\u001B[49m\n\u001B[1;32m    298\u001B[0m     sig \u001B[38;5;241m=\u001B[39m inspect\u001B[38;5;241m.\u001B[39msignature(func)\n\u001B[1;32m    299\u001B[0m     params: Dict[\u001B[38;5;28mstr\u001B[39m, Any] \u001B[38;5;241m=\u001B[39m \u001B[38;5;28mdict\u001B[39m(\u001B[38;5;241m*\u001B[39m\u001B[38;5;241m*\u001B[39m\u001B[38;5;28mdict\u001B[39m(\u001B[38;5;28mzip\u001B[39m(sig\u001B[38;5;241m.\u001B[39mparameters, args)), \u001B[38;5;241m*\u001B[39m\u001B[38;5;241m*\u001B[39mkwargs)\n",
        "File \u001B[0;32m/local_disk0/.ephemeral_nfs/envs/pythonEnv-53ab9f13-a598-4dc8-967d-8cd64e7ba759/lib/python3.10/site-packages/unstructured/partition/pdf.py:183\u001B[0m, in \u001B[0;36mpartition_pdf\u001B[0;34m(filename, file, include_page_breaks, strategy, infer_table_structure, ocr_languages, languages, include_metadata, metadata_filename, metadata_last_modified, chunking_strategy, links, extract_images_in_pdf, image_output_dir_path, **kwargs)\u001B[0m\n\u001B[1;32m    177\u001B[0m         languages \u001B[38;5;241m=\u001B[39m convert_old_ocr_languages_to_languages(ocr_languages)\n\u001B[1;32m    178\u001B[0m         logger\u001B[38;5;241m.\u001B[39mwarning(\n\u001B[1;32m    179\u001B[0m             \u001B[38;5;124m\"\u001B[39m\u001B[38;5;124mThe ocr_languages kwarg will be deprecated in a future version of unstructured. \u001B[39m\u001B[38;5;124m\"\u001B[39m\n\u001B[1;32m    180\u001B[0m             \u001B[38;5;124m\"\u001B[39m\u001B[38;5;124mPlease use languages instead.\u001B[39m\u001B[38;5;124m\"\u001B[39m,\n\u001B[1;32m    181\u001B[0m         )\n\u001B[0;32m--> 183\u001B[0m \u001B[38;5;28;01mreturn\u001B[39;00m \u001B[43mpartition_pdf_or_image\u001B[49m\u001B[43m(\u001B[49m\n\u001B[1;32m    184\u001B[0m \u001B[43m    \u001B[49m\u001B[43mfilename\u001B[49m\u001B[38;5;241;43m=\u001B[39;49m\u001B[43mfilename\u001B[49m\u001B[43m,\u001B[49m\n\u001B[1;32m    185\u001B[0m \u001B[43m    \u001B[49m\u001B[43mfile\u001B[49m\u001B[38;5;241;43m=\u001B[39;49m\u001B[43mfile\u001B[49m\u001B[43m,\u001B[49m\n\u001B[1;32m    186\u001B[0m \u001B[43m    \u001B[49m\u001B[43minclude_page_breaks\u001B[49m\u001B[38;5;241;43m=\u001B[39;49m\u001B[43minclude_page_breaks\u001B[49m\u001B[43m,\u001B[49m\n\u001B[1;32m    187\u001B[0m \u001B[43m    \u001B[49m\u001B[43mstrategy\u001B[49m\u001B[38;5;241;43m=\u001B[39;49m\u001B[43mstrategy\u001B[49m\u001B[43m,\u001B[49m\n\u001B[1;32m    188\u001B[0m \u001B[43m    \u001B[49m\u001B[43minfer_table_structure\u001B[49m\u001B[38;5;241;43m=\u001B[39;49m\u001B[43minfer_table_structure\u001B[49m\u001B[43m,\u001B[49m\n\u001B[1;32m    189\u001B[0m \u001B[43m    \u001B[49m\u001B[43mlanguages\u001B[49m\u001B[38;5;241;43m=\u001B[39;49m\u001B[43mlanguages\u001B[49m\u001B[43m,\u001B[49m\n\u001B[1;32m    190\u001B[0m \u001B[43m    \u001B[49m\u001B[43mmetadata_last_modified\u001B[49m\u001B[38;5;241;43m=\u001B[39;49m\u001B[43mmetadata_last_modified\u001B[49m\u001B[43m,\u001B[49m\n\u001B[1;32m    191\u001B[0m \u001B[43m    \u001B[49m\u001B[43mextract_images_in_pdf\u001B[49m\u001B[38;5;241;43m=\u001B[39;49m\u001B[43mextract_images_in_pdf\u001B[49m\u001B[43m,\u001B[49m\n\u001B[1;32m    192\u001B[0m \u001B[43m    \u001B[49m\u001B[43mimage_output_dir_path\u001B[49m\u001B[38;5;241;43m=\u001B[39;49m\u001B[43mimage_output_dir_path\u001B[49m\u001B[43m,\u001B[49m\n\u001B[1;32m    193\u001B[0m \u001B[43m    \u001B[49m\u001B[38;5;241;43m*\u001B[39;49m\u001B[38;5;241;43m*\u001B[39;49m\u001B[43mkwargs\u001B[49m\u001B[43m,\u001B[49m\n\u001B[1;32m    194\u001B[0m \u001B[43m\u001B[49m\u001B[43m)\u001B[49m\n",
        "File \u001B[0;32m/local_disk0/.ephemeral_nfs/envs/pythonEnv-53ab9f13-a598-4dc8-967d-8cd64e7ba759/lib/python3.10/site-packages/unstructured/partition/pdf.py:315\u001B[0m, in \u001B[0;36mpartition_pdf_or_image\u001B[0;34m(filename, file, is_image, include_page_breaks, strategy, infer_table_structure, ocr_languages, languages, metadata_last_modified, extract_images_in_pdf, image_output_dir_path, **kwargs)\u001B[0m\n\u001B[1;32m    313\u001B[0m \u001B[38;5;28;01mwith\u001B[39;00m warnings\u001B[38;5;241m.\u001B[39mcatch_warnings():\n\u001B[1;32m    314\u001B[0m     warnings\u001B[38;5;241m.\u001B[39msimplefilter(\u001B[38;5;124m\"\u001B[39m\u001B[38;5;124mignore\u001B[39m\u001B[38;5;124m\"\u001B[39m)\n\u001B[0;32m--> 315\u001B[0m     _layout_elements \u001B[38;5;241m=\u001B[39m \u001B[43m_partition_pdf_or_image_local\u001B[49m\u001B[43m(\u001B[49m\n\u001B[1;32m    316\u001B[0m \u001B[43m        \u001B[49m\u001B[43mfilename\u001B[49m\u001B[38;5;241;43m=\u001B[39;49m\u001B[43mfilename\u001B[49m\u001B[43m,\u001B[49m\n\u001B[1;32m    317\u001B[0m \u001B[43m        \u001B[49m\u001B[43mfile\u001B[49m\u001B[38;5;241;43m=\u001B[39;49m\u001B[43mspooled_to_bytes_io_if_needed\u001B[49m\u001B[43m(\u001B[49m\u001B[43mfile\u001B[49m\u001B[43m)\u001B[49m\u001B[43m,\u001B[49m\n\u001B[1;32m    318\u001B[0m \u001B[43m        \u001B[49m\u001B[43mis_image\u001B[49m\u001B[38;5;241;43m=\u001B[39;49m\u001B[43mis_image\u001B[49m\u001B[43m,\u001B[49m\n\u001B[1;32m    319\u001B[0m \u001B[43m        \u001B[49m\u001B[43minfer_table_structure\u001B[49m\u001B[38;5;241;43m=\u001B[39;49m\u001B[43minfer_table_structure\u001B[49m\u001B[43m,\u001B[49m\n\u001B[1;32m    320\u001B[0m \u001B[43m        \u001B[49m\u001B[43minclude_page_breaks\u001B[49m\u001B[38;5;241;43m=\u001B[39;49m\u001B[43minclude_page_breaks\u001B[49m\u001B[43m,\u001B[49m\n\u001B[1;32m    321\u001B[0m \u001B[43m        \u001B[49m\u001B[43mlanguages\u001B[49m\u001B[38;5;241;43m=\u001B[39;49m\u001B[43mlanguages\u001B[49m\u001B[43m,\u001B[49m\n\u001B[1;32m    322\u001B[0m \u001B[43m        \u001B[49m\u001B[43mmetadata_last_modified\u001B[49m\u001B[38;5;241;43m=\u001B[39;49m\u001B[43mmetadata_last_modified\u001B[49m\u001B[43m \u001B[49m\u001B[38;5;129;43;01mor\u001B[39;49;00m\u001B[43m \u001B[49m\u001B[43mlast_modification_date\u001B[49m\u001B[43m,\u001B[49m\n\u001B[1;32m    323\u001B[0m \u001B[43m        \u001B[49m\u001B[43mextract_images_in_pdf\u001B[49m\u001B[38;5;241;43m=\u001B[39;49m\u001B[43mextract_images_in_pdf\u001B[49m\u001B[43m,\u001B[49m\n\u001B[1;32m    324\u001B[0m \u001B[43m        \u001B[49m\u001B[43mimage_output_dir_path\u001B[49m\u001B[38;5;241;43m=\u001B[39;49m\u001B[43mimage_output_dir_path\u001B[49m\u001B[43m,\u001B[49m\n\u001B[1;32m    325\u001B[0m \u001B[43m        \u001B[49m\u001B[38;5;241;43m*\u001B[39;49m\u001B[38;5;241;43m*\u001B[39;49m\u001B[43mkwargs\u001B[49m\u001B[43m,\u001B[49m\n\u001B[1;32m    326\u001B[0m \u001B[43m    \u001B[49m\u001B[43m)\u001B[49m\n\u001B[1;32m    327\u001B[0m     layout_elements \u001B[38;5;241m=\u001B[39m []\n\u001B[1;32m    328\u001B[0m     \u001B[38;5;28;01mfor\u001B[39;00m el \u001B[38;5;129;01min\u001B[39;00m _layout_elements:\n",
        "File \u001B[0;32m/local_disk0/.ephemeral_nfs/envs/pythonEnv-53ab9f13-a598-4dc8-967d-8cd64e7ba759/lib/python3.10/site-packages/unstructured/utils.py:179\u001B[0m, in \u001B[0;36mrequires_dependencies.<locals>.decorator.<locals>.wrapper\u001B[0;34m(*args, **kwargs)\u001B[0m\n\u001B[1;32m    170\u001B[0m \u001B[38;5;28;01mif\u001B[39;00m \u001B[38;5;28mlen\u001B[39m(missing_deps) \u001B[38;5;241m>\u001B[39m \u001B[38;5;241m0\u001B[39m:\n\u001B[1;32m    171\u001B[0m     \u001B[38;5;28;01mraise\u001B[39;00m \u001B[38;5;167;01mImportError\u001B[39;00m(\n\u001B[1;32m    172\u001B[0m         \u001B[38;5;124mf\u001B[39m\u001B[38;5;124m\"\u001B[39m\u001B[38;5;124mFollowing dependencies are missing: \u001B[39m\u001B[38;5;132;01m{\u001B[39;00m\u001B[38;5;124m'\u001B[39m\u001B[38;5;124m, \u001B[39m\u001B[38;5;124m'\u001B[39m\u001B[38;5;241m.\u001B[39mjoin(missing_deps)\u001B[38;5;132;01m}\u001B[39;00m\u001B[38;5;124m. \u001B[39m\u001B[38;5;124m\"\u001B[39m\n\u001B[1;32m    173\u001B[0m         \u001B[38;5;241m+\u001B[39m (\n\u001B[0;32m   (...)\u001B[0m\n\u001B[1;32m    177\u001B[0m         ),\n\u001B[1;32m    178\u001B[0m     )\n\u001B[0;32m--> 179\u001B[0m \u001B[38;5;28;01mreturn\u001B[39;00m \u001B[43mfunc\u001B[49m\u001B[43m(\u001B[49m\u001B[38;5;241;43m*\u001B[39;49m\u001B[43margs\u001B[49m\u001B[43m,\u001B[49m\u001B[43m \u001B[49m\u001B[38;5;241;43m*\u001B[39;49m\u001B[38;5;241;43m*\u001B[39;49m\u001B[43mkwargs\u001B[49m\u001B[43m)\u001B[49m\n",
        "File \u001B[0;32m/local_disk0/.ephemeral_nfs/envs/pythonEnv-53ab9f13-a598-4dc8-967d-8cd64e7ba759/lib/python3.10/site-packages/unstructured/partition/pdf.py:404\u001B[0m, in \u001B[0;36m_partition_pdf_or_image_local\u001B[0;34m(filename, file, is_image, infer_table_structure, include_page_breaks, languages, ocr_mode, model_name, metadata_last_modified, extract_images_in_pdf, image_output_dir_path, pdf_image_dpi, **kwargs)\u001B[0m\n\u001B[1;32m    397\u001B[0m     logger\u001B[38;5;241m.\u001B[39mwarning(\n\u001B[1;32m    398\u001B[0m         \u001B[38;5;124m\"\u001B[39m\u001B[38;5;124mThe Chipper model performs better when images are rendered with DPI >= 300 \u001B[39m\u001B[38;5;124m\"\u001B[39m\n\u001B[1;32m    399\u001B[0m         \u001B[38;5;124mf\u001B[39m\u001B[38;5;124m\"\u001B[39m\u001B[38;5;124m(currently \u001B[39m\u001B[38;5;132;01m{\u001B[39;00mpdf_image_dpi\u001B[38;5;132;01m}\u001B[39;00m\u001B[38;5;124m).\u001B[39m\u001B[38;5;124m\"\u001B[39m,\n\u001B[1;32m    400\u001B[0m     )\n\u001B[1;32m    402\u001B[0m \u001B[38;5;28;01mif\u001B[39;00m file \u001B[38;5;129;01mis\u001B[39;00m \u001B[38;5;28;01mNone\u001B[39;00m:\n\u001B[1;32m    403\u001B[0m     \u001B[38;5;66;03m# NOTE(christine): out_layout = extracted_layout + inferred_layout\u001B[39;00m\n\u001B[0;32m--> 404\u001B[0m     out_layout \u001B[38;5;241m=\u001B[39m \u001B[43mprocess_file_with_model\u001B[49m\u001B[43m(\u001B[49m\n\u001B[1;32m    405\u001B[0m \u001B[43m        \u001B[49m\u001B[43mfilename\u001B[49m\u001B[43m,\u001B[49m\n\u001B[1;32m    406\u001B[0m \u001B[43m        \u001B[49m\u001B[43mis_image\u001B[49m\u001B[38;5;241;43m=\u001B[39;49m\u001B[43mis_image\u001B[49m\u001B[43m,\u001B[49m\n\u001B[1;32m    407\u001B[0m \u001B[43m        \u001B[49m\u001B[43mmodel_name\u001B[49m\u001B[38;5;241;43m=\u001B[39;49m\u001B[43mmodel_name\u001B[49m\u001B[43m,\u001B[49m\n\u001B[1;32m    408\u001B[0m \u001B[43m        \u001B[49m\u001B[43mpdf_image_dpi\u001B[49m\u001B[38;5;241;43m=\u001B[39;49m\u001B[43mpdf_image_dpi\u001B[49m\u001B[43m,\u001B[49m\n\u001B[1;32m    409\u001B[0m \u001B[43m        \u001B[49m\u001B[43mextract_images_in_pdf\u001B[49m\u001B[38;5;241;43m=\u001B[39;49m\u001B[43mextract_images_in_pdf\u001B[49m\u001B[43m,\u001B[49m\n\u001B[1;32m    410\u001B[0m \u001B[43m        \u001B[49m\u001B[43mimage_output_dir_path\u001B[49m\u001B[38;5;241;43m=\u001B[39;49m\u001B[43mimage_output_dir_path\u001B[49m\u001B[43m,\u001B[49m\n\u001B[1;32m    411\u001B[0m \u001B[43m    \u001B[49m\u001B[43m)\u001B[49m\n\u001B[1;32m    412\u001B[0m     \u001B[38;5;28;01mif\u001B[39;00m model_name\u001B[38;5;241m.\u001B[39mstartswith(\u001B[38;5;124m\"\u001B[39m\u001B[38;5;124mchipper\u001B[39m\u001B[38;5;124m\"\u001B[39m):\n\u001B[1;32m    413\u001B[0m         \u001B[38;5;66;03m# NOTE(alan): We shouldn't do OCR with chipper\u001B[39;00m\n\u001B[1;32m    414\u001B[0m         final_layout \u001B[38;5;241m=\u001B[39m out_layout\n",
        "File \u001B[0;32m/local_disk0/.ephemeral_nfs/envs/pythonEnv-53ab9f13-a598-4dc8-967d-8cd64e7ba759/lib/python3.10/site-packages/unstructured_inference/inference/layout.py:499\u001B[0m, in \u001B[0;36mprocess_file_with_model\u001B[0;34m(filename, model_name, is_image, fixed_layouts, extract_tables, pdf_image_dpi, extract_images_in_pdf, image_output_dir_path, **kwargs)\u001B[0m\n\u001B[1;32m    488\u001B[0m \u001B[38;5;28;01melse\u001B[39;00m:\n\u001B[1;32m    489\u001B[0m     \u001B[38;5;28;01mraise\u001B[39;00m \u001B[38;5;167;01mValueError\u001B[39;00m(\u001B[38;5;124mf\u001B[39m\u001B[38;5;124m\"\u001B[39m\u001B[38;5;124mUnsupported model type: \u001B[39m\u001B[38;5;132;01m{\u001B[39;00m\u001B[38;5;28mtype\u001B[39m(model)\u001B[38;5;132;01m}\u001B[39;00m\u001B[38;5;124m\"\u001B[39m)\n\u001B[1;32m    490\u001B[0m layout \u001B[38;5;241m=\u001B[39m (\n\u001B[1;32m    491\u001B[0m     DocumentLayout\u001B[38;5;241m.\u001B[39mfrom_image_file(\n\u001B[1;32m    492\u001B[0m         filename,\n\u001B[1;32m    493\u001B[0m         detection_model\u001B[38;5;241m=\u001B[39mdetection_model,\n\u001B[1;32m    494\u001B[0m         element_extraction_model\u001B[38;5;241m=\u001B[39melement_extraction_model,\n\u001B[1;32m    495\u001B[0m         extract_tables\u001B[38;5;241m=\u001B[39mextract_tables,\n\u001B[1;32m    496\u001B[0m         \u001B[38;5;241m*\u001B[39m\u001B[38;5;241m*\u001B[39mkwargs,\n\u001B[1;32m    497\u001B[0m     )\n\u001B[1;32m    498\u001B[0m     \u001B[38;5;28;01mif\u001B[39;00m is_image\n\u001B[0;32m--> 499\u001B[0m     \u001B[38;5;28;01melse\u001B[39;00m \u001B[43mDocumentLayout\u001B[49m\u001B[38;5;241;43m.\u001B[39;49m\u001B[43mfrom_file\u001B[49m\u001B[43m(\u001B[49m\n\u001B[1;32m    500\u001B[0m \u001B[43m        \u001B[49m\u001B[43mfilename\u001B[49m\u001B[43m,\u001B[49m\n\u001B[1;32m    501\u001B[0m \u001B[43m        \u001B[49m\u001B[43mdetection_model\u001B[49m\u001B[38;5;241;43m=\u001B[39;49m\u001B[43mdetection_model\u001B[49m\u001B[43m,\u001B[49m\n\u001B[1;32m    502\u001B[0m \u001B[43m        \u001B[49m\u001B[43melement_extraction_model\u001B[49m\u001B[38;5;241;43m=\u001B[39;49m\u001B[43melement_extraction_model\u001B[49m\u001B[43m,\u001B[49m\n\u001B[1;32m    503\u001B[0m \u001B[43m        \u001B[49m\u001B[43mfixed_layouts\u001B[49m\u001B[38;5;241;43m=\u001B[39;49m\u001B[43mfixed_layouts\u001B[49m\u001B[43m,\u001B[49m\n\u001B[1;32m    504\u001B[0m \u001B[43m        \u001B[49m\u001B[43mextract_tables\u001B[49m\u001B[38;5;241;43m=\u001B[39;49m\u001B[43mextract_tables\u001B[49m\u001B[43m,\u001B[49m\n\u001B[1;32m    505\u001B[0m \u001B[43m        \u001B[49m\u001B[43mpdf_image_dpi\u001B[49m\u001B[38;5;241;43m=\u001B[39;49m\u001B[43mpdf_image_dpi\u001B[49m\u001B[43m,\u001B[49m\n\u001B[1;32m    506\u001B[0m \u001B[43m        \u001B[49m\u001B[43mextract_images_in_pdf\u001B[49m\u001B[38;5;241;43m=\u001B[39;49m\u001B[43mextract_images_in_pdf\u001B[49m\u001B[43m,\u001B[49m\n\u001B[1;32m    507\u001B[0m \u001B[43m        \u001B[49m\u001B[43mimage_output_dir_path\u001B[49m\u001B[38;5;241;43m=\u001B[39;49m\u001B[43mimage_output_dir_path\u001B[49m\u001B[43m,\u001B[49m\n\u001B[1;32m    508\u001B[0m \u001B[43m        \u001B[49m\u001B[38;5;241;43m*\u001B[39;49m\u001B[38;5;241;43m*\u001B[39;49m\u001B[43mkwargs\u001B[49m\u001B[43m,\u001B[49m\n\u001B[1;32m    509\u001B[0m \u001B[43m    \u001B[49m\u001B[43m)\u001B[49m\n\u001B[1;32m    510\u001B[0m )\n\u001B[1;32m    511\u001B[0m \u001B[38;5;28;01mreturn\u001B[39;00m layout\n",
        "File \u001B[0;32m/local_disk0/.ephemeral_nfs/envs/pythonEnv-53ab9f13-a598-4dc8-967d-8cd64e7ba759/lib/python3.10/site-packages/unstructured_inference/inference/layout.py:82\u001B[0m, in \u001B[0;36mDocumentLayout.from_file\u001B[0;34m(cls, filename, fixed_layouts, pdf_image_dpi, **kwargs)\u001B[0m\n\u001B[1;32m     79\u001B[0m logger\u001B[38;5;241m.\u001B[39minfo(\u001B[38;5;124mf\u001B[39m\u001B[38;5;124m\"\u001B[39m\u001B[38;5;124mReading PDF for file: \u001B[39m\u001B[38;5;132;01m{\u001B[39;00mfilename\u001B[38;5;132;01m}\u001B[39;00m\u001B[38;5;124m ...\u001B[39m\u001B[38;5;124m\"\u001B[39m)\n\u001B[1;32m     81\u001B[0m \u001B[38;5;28;01mwith\u001B[39;00m tempfile\u001B[38;5;241m.\u001B[39mTemporaryDirectory() \u001B[38;5;28;01mas\u001B[39;00m temp_dir:\n\u001B[0;32m---> 82\u001B[0m     layouts, _image_paths \u001B[38;5;241m=\u001B[39m \u001B[43mload_pdf\u001B[49m\u001B[43m(\u001B[49m\n\u001B[1;32m     83\u001B[0m \u001B[43m        \u001B[49m\u001B[43mfilename\u001B[49m\u001B[43m,\u001B[49m\n\u001B[1;32m     84\u001B[0m \u001B[43m        \u001B[49m\u001B[43mpdf_image_dpi\u001B[49m\u001B[43m,\u001B[49m\n\u001B[1;32m     85\u001B[0m \u001B[43m        \u001B[49m\u001B[43moutput_folder\u001B[49m\u001B[38;5;241;43m=\u001B[39;49m\u001B[43mtemp_dir\u001B[49m\u001B[43m,\u001B[49m\n\u001B[1;32m     86\u001B[0m \u001B[43m        \u001B[49m\u001B[43mpath_only\u001B[49m\u001B[38;5;241;43m=\u001B[39;49m\u001B[38;5;28;43;01mTrue\u001B[39;49;00m\u001B[43m,\u001B[49m\n\u001B[1;32m     87\u001B[0m \u001B[43m    \u001B[49m\u001B[43m)\u001B[49m\n\u001B[1;32m     88\u001B[0m     image_paths \u001B[38;5;241m=\u001B[39m cast(List[\u001B[38;5;28mstr\u001B[39m], _image_paths)\n\u001B[1;32m     89\u001B[0m     \u001B[38;5;28;01mif\u001B[39;00m \u001B[38;5;28mlen\u001B[39m(layouts) \u001B[38;5;241m>\u001B[39m \u001B[38;5;28mlen\u001B[39m(image_paths):\n",
        "File \u001B[0;32m/local_disk0/.ephemeral_nfs/envs/pythonEnv-53ab9f13-a598-4dc8-967d-8cd64e7ba759/lib/python3.10/site-packages/unstructured_inference/inference/layout.py:581\u001B[0m, in \u001B[0;36mload_pdf\u001B[0;34m(filename, dpi, output_folder, path_only)\u001B[0m\n\u001B[1;32m    578\u001B[0m     \u001B[38;5;28;01mraise\u001B[39;00m \u001B[38;5;167;01mValueError\u001B[39;00m(\u001B[38;5;124m\"\u001B[39m\u001B[38;5;124moutput_folder must be specified if path_only is true\u001B[39m\u001B[38;5;124m\"\u001B[39m)\n\u001B[1;32m    580\u001B[0m \u001B[38;5;28;01mif\u001B[39;00m output_folder \u001B[38;5;129;01mis\u001B[39;00m \u001B[38;5;129;01mnot\u001B[39;00m \u001B[38;5;28;01mNone\u001B[39;00m:\n\u001B[0;32m--> 581\u001B[0m     images \u001B[38;5;241m=\u001B[39m \u001B[43mpdf2image\u001B[49m\u001B[38;5;241;43m.\u001B[39;49m\u001B[43mconvert_from_path\u001B[49m\u001B[43m(\u001B[49m\n\u001B[1;32m    582\u001B[0m \u001B[43m        \u001B[49m\u001B[43mfilename\u001B[49m\u001B[43m,\u001B[49m\n\u001B[1;32m    583\u001B[0m \u001B[43m        \u001B[49m\u001B[43mdpi\u001B[49m\u001B[38;5;241;43m=\u001B[39;49m\u001B[43mdpi\u001B[49m\u001B[43m,\u001B[49m\n\u001B[1;32m    584\u001B[0m \u001B[43m        \u001B[49m\u001B[43moutput_folder\u001B[49m\u001B[38;5;241;43m=\u001B[39;49m\u001B[43moutput_folder\u001B[49m\u001B[43m,\u001B[49m\n\u001B[1;32m    585\u001B[0m \u001B[43m        \u001B[49m\u001B[43mpaths_only\u001B[49m\u001B[38;5;241;43m=\u001B[39;49m\u001B[43mpath_only\u001B[49m\u001B[43m,\u001B[49m\n\u001B[1;32m    586\u001B[0m \u001B[43m    \u001B[49m\u001B[43m)\u001B[49m\n\u001B[1;32m    587\u001B[0m \u001B[38;5;28;01melse\u001B[39;00m:\n\u001B[1;32m    588\u001B[0m     images \u001B[38;5;241m=\u001B[39m pdf2image\u001B[38;5;241m.\u001B[39mconvert_from_path(\n\u001B[1;32m    589\u001B[0m         filename,\n\u001B[1;32m    590\u001B[0m         dpi\u001B[38;5;241m=\u001B[39mdpi,\n\u001B[1;32m    591\u001B[0m         paths_only\u001B[38;5;241m=\u001B[39mpath_only,\n\u001B[1;32m    592\u001B[0m     )\n",
        "File \u001B[0;32m/local_disk0/.ephemeral_nfs/envs/pythonEnv-53ab9f13-a598-4dc8-967d-8cd64e7ba759/lib/python3.10/site-packages/pdf2image/pdf2image.py:127\u001B[0m, in \u001B[0;36mconvert_from_path\u001B[0;34m(pdf_path, dpi, output_folder, first_page, last_page, fmt, jpegopt, thread_count, userpw, ownerpw, use_cropbox, strict, transparent, single_file, output_file, poppler_path, grayscale, size, paths_only, use_pdftocairo, timeout, hide_annotations)\u001B[0m\n\u001B[1;32m    124\u001B[0m \u001B[38;5;28;01mif\u001B[39;00m \u001B[38;5;28misinstance\u001B[39m(poppler_path, PurePath):\n\u001B[1;32m    125\u001B[0m     poppler_path \u001B[38;5;241m=\u001B[39m poppler_path\u001B[38;5;241m.\u001B[39mas_posix()\n\u001B[0;32m--> 127\u001B[0m page_count \u001B[38;5;241m=\u001B[39m \u001B[43mpdfinfo_from_path\u001B[49m\u001B[43m(\u001B[49m\n\u001B[1;32m    128\u001B[0m \u001B[43m    \u001B[49m\u001B[43mpdf_path\u001B[49m\u001B[43m,\u001B[49m\u001B[43m \u001B[49m\u001B[43muserpw\u001B[49m\u001B[43m,\u001B[49m\u001B[43m \u001B[49m\u001B[43mownerpw\u001B[49m\u001B[43m,\u001B[49m\u001B[43m \u001B[49m\u001B[43mpoppler_path\u001B[49m\u001B[38;5;241;43m=\u001B[39;49m\u001B[43mpoppler_path\u001B[49m\n\u001B[1;32m    129\u001B[0m \u001B[43m\u001B[49m\u001B[43m)\u001B[49m[\u001B[38;5;124m\"\u001B[39m\u001B[38;5;124mPages\u001B[39m\u001B[38;5;124m\"\u001B[39m]\n\u001B[1;32m    131\u001B[0m \u001B[38;5;66;03m# We start by getting the output format, the buffer processing function and if we need pdftocairo\u001B[39;00m\n\u001B[1;32m    132\u001B[0m parsed_fmt, final_extension, parse_buffer_func, use_pdfcairo_format \u001B[38;5;241m=\u001B[39m _parse_format(\n\u001B[1;32m    133\u001B[0m     fmt, grayscale\n\u001B[1;32m    134\u001B[0m )\n",
        "File \u001B[0;32m/local_disk0/.ephemeral_nfs/envs/pythonEnv-53ab9f13-a598-4dc8-967d-8cd64e7ba759/lib/python3.10/site-packages/pdf2image/pdf2image.py:607\u001B[0m, in \u001B[0;36mpdfinfo_from_path\u001B[0;34m(pdf_path, userpw, ownerpw, poppler_path, rawdates, timeout, first_page, last_page)\u001B[0m\n\u001B[1;32m    604\u001B[0m     \u001B[38;5;28;01mreturn\u001B[39;00m d\n\u001B[1;32m    606\u001B[0m \u001B[38;5;28;01mexcept\u001B[39;00m \u001B[38;5;167;01mOSError\u001B[39;00m:\n\u001B[0;32m--> 607\u001B[0m     \u001B[38;5;28;01mraise\u001B[39;00m PDFInfoNotInstalledError(\n\u001B[1;32m    608\u001B[0m         \u001B[38;5;124m\"\u001B[39m\u001B[38;5;124mUnable to get page count. Is poppler installed and in PATH?\u001B[39m\u001B[38;5;124m\"\u001B[39m\n\u001B[1;32m    609\u001B[0m     )\n\u001B[1;32m    610\u001B[0m \u001B[38;5;28;01mexcept\u001B[39;00m \u001B[38;5;167;01mValueError\u001B[39;00m:\n\u001B[1;32m    611\u001B[0m     \u001B[38;5;28;01mraise\u001B[39;00m PDFPageCountError(\n\u001B[1;32m    612\u001B[0m         \u001B[38;5;124mf\u001B[39m\u001B[38;5;124m\"\u001B[39m\u001B[38;5;124mUnable to get page count.\u001B[39m\u001B[38;5;130;01m\\n\u001B[39;00m\u001B[38;5;132;01m{\u001B[39;00merr\u001B[38;5;241m.\u001B[39mdecode(\u001B[38;5;124m'\u001B[39m\u001B[38;5;124mutf8\u001B[39m\u001B[38;5;124m'\u001B[39m, \u001B[38;5;124m'\u001B[39m\u001B[38;5;124mignore\u001B[39m\u001B[38;5;124m'\u001B[39m)\u001B[38;5;132;01m}\u001B[39;00m\u001B[38;5;124m\"\u001B[39m\n\u001B[1;32m    613\u001B[0m     )\n",
        "\u001B[0;31mPDFInfoNotInstalledError\u001B[0m: Unable to get page count. Is poppler installed and in PATH?"
       ],
       "type": "baseError"
      }
     },
     "output_type": "display_data"
    }
   ],
   "source": [
    "#  f\"/Volumes/home-inspection-gpt/default/inspection-report/report1.pdf\",\n",
    "print (filename_homereport)\n",
    "\n",
    "pdf_elements_digital = partition_pdf(\n",
    "    filename=filename_homereport,\n",
    "    extract_images_in_pdf=True,\n",
    "    infer_table_structure=True,\n",
    "    strategy=\"hi_res\",\n",
    "    extract_image_block_types=[\"Image\", \"Table\"],\n",
    "    extract_image_block_to_payload=False,\n",
    "    max_characters=4000,\n",
    "    new_after_n_chars=3800,\n",
    "    combine_text_under_n_chars=2000,\n",
    "    image_output_dir_path=f\"/Volumes/home-inspection-gpt/default/pdf-images\",\n",
    "    extract_image_block_output_dir=\"/Volumes/home-inspection-gpt/default/output-image-block\",\n",
    ")"
   ]
  }
 ],
 "metadata": {
  "application/vnd.databricks.v1+notebook": {
   "dashboards": [],
   "environmentMetadata": null,
   "language": "python",
   "notebookMetadata": {
    "mostRecentlyExecutedCommandWithImplicitDF": {
     "commandId": 899513014180810,
     "dataframes": [
      "_sqldf"
     ]
    },
    "pythonIndentUnit": 4
   },
   "notebookName": "ExtractDatafromHomeReportPDF",
   "widgets": {}
  }
 },
 "nbformat": 4,
 "nbformat_minor": 0
}
