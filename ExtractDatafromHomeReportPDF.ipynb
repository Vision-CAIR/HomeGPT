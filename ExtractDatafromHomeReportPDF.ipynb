{
 "cells": [
  {
   "cell_type": "code",
   "execution_count": 0,
   "metadata": {
    "application/vnd.databricks.v1+cell": {
     "cellMetadata": {
      "byteLimit": 2048000,
      "rowLimit": 10000
     },
     "inputWidgets": {},
     "nuid": "b3362214-b784-407b-8a49-d6ac5d144edf",
     "showTitle": false,
     "title": ""
    }
   },
   "outputs": [
    {
     "output_type": "stream",
     "name": "stdout",
     "output_type": "stream",
     "text": [
      "\u001B[43mNote: you may need to restart the kernel using %restart_python or dbutils.library.restartPython() to use updated packages.\u001B[0m\nRequirement already satisfied: pymupdf4llm in /local_disk0/.ephemeral_nfs/envs/pythonEnv-5e957dcf-34e0-47e4-9e56-315f015d2f78/lib/python3.10/site-packages (0.0.5)\nRequirement already satisfied: pymupdf>=1.24.2 in /local_disk0/.ephemeral_nfs/envs/pythonEnv-5e957dcf-34e0-47e4-9e56-315f015d2f78/lib/python3.10/site-packages (from pymupdf4llm) (1.24.5)\nRequirement already satisfied: PyMuPDFb==1.24.3 in /local_disk0/.ephemeral_nfs/envs/pythonEnv-5e957dcf-34e0-47e4-9e56-315f015d2f78/lib/python3.10/site-packages (from pymupdf>=1.24.2->pymupdf4llm) (1.24.3)\n\u001B[43mNote: you may need to restart the kernel using %restart_python or dbutils.library.restartPython() to use updated packages.\u001B[0m\n\u001B[43mNote: you may need to restart the kernel using %restart_python or dbutils.library.restartPython() to use updated packages.\u001B[0m\nRequirement already satisfied: llama_index in /local_disk0/.ephemeral_nfs/envs/pythonEnv-5e957dcf-34e0-47e4-9e56-315f015d2f78/lib/python3.10/site-packages (0.10.44)\nRequirement already satisfied: llama-index-embeddings-openai<0.2.0,>=0.1.5 in /local_disk0/.ephemeral_nfs/envs/pythonEnv-5e957dcf-34e0-47e4-9e56-315f015d2f78/lib/python3.10/site-packages (from llama_index) (0.1.10)\nRequirement already satisfied: llama-index-readers-file<0.2.0,>=0.1.4 in /local_disk0/.ephemeral_nfs/envs/pythonEnv-5e957dcf-34e0-47e4-9e56-315f015d2f78/lib/python3.10/site-packages (from llama_index) (0.1.23)\nRequirement already satisfied: llama-index-multi-modal-llms-openai<0.2.0,>=0.1.3 in /local_disk0/.ephemeral_nfs/envs/pythonEnv-5e957dcf-34e0-47e4-9e56-315f015d2f78/lib/python3.10/site-packages (from llama_index) (0.1.6)\nRequirement already satisfied: llama-index-legacy<0.10.0,>=0.9.48 in /local_disk0/.ephemeral_nfs/envs/pythonEnv-5e957dcf-34e0-47e4-9e56-315f015d2f78/lib/python3.10/site-packages (from llama_index) (0.9.48)\nRequirement already satisfied: llama-index-question-gen-openai<0.2.0,>=0.1.2 in /local_disk0/.ephemeral_nfs/envs/pythonEnv-5e957dcf-34e0-47e4-9e56-315f015d2f78/lib/python3.10/site-packages (from llama_index) (0.1.3)\nRequirement already satisfied: llama-index-readers-llama-parse<0.2.0,>=0.1.2 in /local_disk0/.ephemeral_nfs/envs/pythonEnv-5e957dcf-34e0-47e4-9e56-315f015d2f78/lib/python3.10/site-packages (from llama_index) (0.1.4)\nRequirement already satisfied: llama-index-agent-openai<0.3.0,>=0.1.4 in /local_disk0/.ephemeral_nfs/envs/pythonEnv-5e957dcf-34e0-47e4-9e56-315f015d2f78/lib/python3.10/site-packages (from llama_index) (0.2.7)\nRequirement already satisfied: llama-index-llms-openai<0.2.0,>=0.1.13 in /local_disk0/.ephemeral_nfs/envs/pythonEnv-5e957dcf-34e0-47e4-9e56-315f015d2f78/lib/python3.10/site-packages (from llama_index) (0.1.22)\nRequirement already satisfied: llama-index-core==0.10.44 in /local_disk0/.ephemeral_nfs/envs/pythonEnv-5e957dcf-34e0-47e4-9e56-315f015d2f78/lib/python3.10/site-packages (from llama_index) (0.10.44)\nRequirement already satisfied: llama-index-program-openai<0.2.0,>=0.1.3 in /local_disk0/.ephemeral_nfs/envs/pythonEnv-5e957dcf-34e0-47e4-9e56-315f015d2f78/lib/python3.10/site-packages (from llama_index) (0.1.6)\nRequirement already satisfied: llama-index-cli<0.2.0,>=0.1.2 in /local_disk0/.ephemeral_nfs/envs/pythonEnv-5e957dcf-34e0-47e4-9e56-315f015d2f78/lib/python3.10/site-packages (from llama_index) (0.1.12)\nRequirement already satisfied: llama-index-indices-managed-llama-cloud<0.2.0,>=0.1.2 in /local_disk0/.ephemeral_nfs/envs/pythonEnv-5e957dcf-34e0-47e4-9e56-315f015d2f78/lib/python3.10/site-packages (from llama_index) (0.1.6)\nRequirement already satisfied: httpx in /local_disk0/.ephemeral_nfs/envs/pythonEnv-5e957dcf-34e0-47e4-9e56-315f015d2f78/lib/python3.10/site-packages (from llama-index-core==0.10.44->llama_index) (0.27.0)\nRequirement already satisfied: SQLAlchemy[asyncio]>=1.4.49 in /local_disk0/.ephemeral_nfs/envs/pythonEnv-5e957dcf-34e0-47e4-9e56-315f015d2f78/lib/python3.10/site-packages (from llama-index-core==0.10.44->llama_index) (2.0.30)\nRequirement already satisfied: aiohttp<4.0.0,>=3.8.6 in /local_disk0/.ephemeral_nfs/envs/pythonEnv-5e957dcf-34e0-47e4-9e56-315f015d2f78/lib/python3.10/site-packages (from llama-index-core==0.10.44->llama_index) (3.9.5)\nRequirement already satisfied: tiktoken>=0.3.3 in /local_disk0/.ephemeral_nfs/envs/pythonEnv-5e957dcf-34e0-47e4-9e56-315f015d2f78/lib/python3.10/site-packages (from llama-index-core==0.10.44->llama_index) (0.7.0)\nRequirement already satisfied: pillow>=9.0.0 in /databricks/python3/lib/python3.10/site-packages (from llama-index-core==0.10.44->llama_index) (9.4.0)\nRequirement already satisfied: nest-asyncio<2.0.0,>=1.5.8 in /local_disk0/.ephemeral_nfs/envs/pythonEnv-5e957dcf-34e0-47e4-9e56-315f015d2f78/lib/python3.10/site-packages (from llama-index-core==0.10.44->llama_index) (1.6.0)\nRequirement already satisfied: fsspec>=2023.5.0 in /local_disk0/.ephemeral_nfs/envs/pythonEnv-5e957dcf-34e0-47e4-9e56-315f015d2f78/lib/python3.10/site-packages (from llama-index-core==0.10.44->llama_index) (2024.6.0)\nRequirement already satisfied: typing-extensions>=4.5.0 in /local_disk0/.ephemeral_nfs/envs/pythonEnv-5e957dcf-34e0-47e4-9e56-315f015d2f78/lib/python3.10/site-packages (from llama-index-core==0.10.44->llama_index) (4.12.2)\nRequirement already satisfied: typing-inspect>=0.8.0 in /local_disk0/.ephemeral_nfs/envs/pythonEnv-5e957dcf-34e0-47e4-9e56-315f015d2f78/lib/python3.10/site-packages (from llama-index-core==0.10.44->llama_index) (0.9.0)\nRequirement already satisfied: pandas in /databricks/python3/lib/python3.10/site-packages (from llama-index-core==0.10.44->llama_index) (1.5.3)\nRequirement already satisfied: networkx>=3.0 in /local_disk0/.ephemeral_nfs/envs/pythonEnv-5e957dcf-34e0-47e4-9e56-315f015d2f78/lib/python3.10/site-packages (from llama-index-core==0.10.44->llama_index) (3.3)\nRequirement already satisfied: requests>=2.31.0 in /local_disk0/.ephemeral_nfs/envs/pythonEnv-5e957dcf-34e0-47e4-9e56-315f015d2f78/lib/python3.10/site-packages (from llama-index-core==0.10.44->llama_index) (2.32.3)\nRequirement already satisfied: nltk<4.0.0,>=3.8.1 in /local_disk0/.ephemeral_nfs/envs/pythonEnv-5e957dcf-34e0-47e4-9e56-315f015d2f78/lib/python3.10/site-packages (from llama-index-core==0.10.44->llama_index) (3.8.1)\nRequirement already satisfied: numpy in /databricks/python3/lib/python3.10/site-packages (from llama-index-core==0.10.44->llama_index) (1.23.5)\nRequirement already satisfied: PyYAML>=6.0.1 in /local_disk0/.ephemeral_nfs/envs/pythonEnv-5e957dcf-34e0-47e4-9e56-315f015d2f78/lib/python3.10/site-packages (from llama-index-core==0.10.44->llama_index) (6.0.1)\nRequirement already satisfied: wrapt in /local_disk0/.ephemeral_nfs/envs/pythonEnv-5e957dcf-34e0-47e4-9e56-315f015d2f78/lib/python3.10/site-packages (from llama-index-core==0.10.44->llama_index) (1.16.0)\nRequirement already satisfied: openai>=1.1.0 in /local_disk0/.ephemeral_nfs/envs/pythonEnv-5e957dcf-34e0-47e4-9e56-315f015d2f78/lib/python3.10/site-packages (from llama-index-core==0.10.44->llama_index) (1.33.0)\nRequirement already satisfied: llamaindex-py-client<0.2.0,>=0.1.18 in /local_disk0/.ephemeral_nfs/envs/pythonEnv-5e957dcf-34e0-47e4-9e56-315f015d2f78/lib/python3.10/site-packages (from llama-index-core==0.10.44->llama_index) (0.1.19)\nRequirement already satisfied: dirtyjson<2.0.0,>=1.0.8 in /local_disk0/.ephemeral_nfs/envs/pythonEnv-5e957dcf-34e0-47e4-9e56-315f015d2f78/lib/python3.10/site-packages (from llama-index-core==0.10.44->llama_index) (1.0.8)\nRequirement already satisfied: tqdm<5.0.0,>=4.66.1 in /local_disk0/.ephemeral_nfs/envs/pythonEnv-5e957dcf-34e0-47e4-9e56-315f015d2f78/lib/python3.10/site-packages (from llama-index-core==0.10.44->llama_index) (4.66.4)\nRequirement already satisfied: dataclasses-json in /local_disk0/.ephemeral_nfs/envs/pythonEnv-5e957dcf-34e0-47e4-9e56-315f015d2f78/lib/python3.10/site-packages (from llama-index-core==0.10.44->llama_index) (0.6.7)\nRequirement already satisfied: tenacity<9.0.0,>=8.2.0 in /local_disk0/.ephemeral_nfs/envs/pythonEnv-5e957dcf-34e0-47e4-9e56-315f015d2f78/lib/python3.10/site-packages (from llama-index-core==0.10.44->llama_index) (8.2.3)\nRequirement already satisfied: deprecated>=1.2.9.3 in /local_disk0/.ephemeral_nfs/envs/pythonEnv-5e957dcf-34e0-47e4-9e56-315f015d2f78/lib/python3.10/site-packages (from llama-index-core==0.10.44->llama_index) (1.2.14)\nRequirement already satisfied: beautifulsoup4<5.0.0,>=4.12.3 in /local_disk0/.ephemeral_nfs/envs/pythonEnv-5e957dcf-34e0-47e4-9e56-315f015d2f78/lib/python3.10/site-packages (from llama-index-readers-file<0.2.0,>=0.1.4->llama_index) (4.12.3)\nRequirement already satisfied: pypdf<5.0.0,>=4.0.1 in /local_disk0/.ephemeral_nfs/envs/pythonEnv-5e957dcf-34e0-47e4-9e56-315f015d2f78/lib/python3.10/site-packages (from llama-index-readers-file<0.2.0,>=0.1.4->llama_index) (4.2.0)\nRequirement already satisfied: striprtf<0.0.27,>=0.0.26 in /local_disk0/.ephemeral_nfs/envs/pythonEnv-5e957dcf-34e0-47e4-9e56-315f015d2f78/lib/python3.10/site-packages (from llama-index-readers-file<0.2.0,>=0.1.4->llama_index) (0.0.26)\nRequirement already satisfied: llama-parse<0.5.0,>=0.4.0 in /local_disk0/.ephemeral_nfs/envs/pythonEnv-5e957dcf-34e0-47e4-9e56-315f015d2f78/lib/python3.10/site-packages (from llama-index-readers-llama-parse<0.2.0,>=0.1.2->llama_index) (0.4.4)\nRequirement already satisfied: yarl<2.0,>=1.0 in /local_disk0/.ephemeral_nfs/envs/pythonEnv-5e957dcf-34e0-47e4-9e56-315f015d2f78/lib/python3.10/site-packages (from aiohttp<4.0.0,>=3.8.6->llama-index-core==0.10.44->llama_index) (1.9.4)\nRequirement already satisfied: frozenlist>=1.1.1 in /local_disk0/.ephemeral_nfs/envs/pythonEnv-5e957dcf-34e0-47e4-9e56-315f015d2f78/lib/python3.10/site-packages (from aiohttp<4.0.0,>=3.8.6->llama-index-core==0.10.44->llama_index) (1.4.1)\nRequirement already satisfied: multidict<7.0,>=4.5 in /local_disk0/.ephemeral_nfs/envs/pythonEnv-5e957dcf-34e0-47e4-9e56-315f015d2f78/lib/python3.10/site-packages (from aiohttp<4.0.0,>=3.8.6->llama-index-core==0.10.44->llama_index) (6.0.5)\nRequirement already satisfied: attrs>=17.3.0 in /databricks/python3/lib/python3.10/site-packages (from aiohttp<4.0.0,>=3.8.6->llama-index-core==0.10.44->llama_index) (22.1.0)\nRequirement already satisfied: async-timeout<5.0,>=4.0 in /local_disk0/.ephemeral_nfs/envs/pythonEnv-5e957dcf-34e0-47e4-9e56-315f015d2f78/lib/python3.10/site-packages (from aiohttp<4.0.0,>=3.8.6->llama-index-core==0.10.44->llama_index) (4.0.3)\nRequirement already satisfied: aiosignal>=1.1.2 in /local_disk0/.ephemeral_nfs/envs/pythonEnv-5e957dcf-34e0-47e4-9e56-315f015d2f78/lib/python3.10/site-packages (from aiohttp<4.0.0,>=3.8.6->llama-index-core==0.10.44->llama_index) (1.3.1)\nRequirement already satisfied: soupsieve>1.2 in /databricks/python3/lib/python3.10/site-packages (from beautifulsoup4<5.0.0,>=4.12.3->llama-index-readers-file<0.2.0,>=0.1.4->llama_index) (2.3.2.post1)\nRequirement already satisfied: pydantic>=1.10 in /local_disk0/.ephemeral_nfs/envs/pythonEnv-5e957dcf-34e0-47e4-9e56-315f015d2f78/lib/python3.10/site-packages (from llamaindex-py-client<0.2.0,>=0.1.18->llama-index-core==0.10.44->llama_index) (2.7.3)\nRequirement already satisfied: certifi in /local_disk0/.ephemeral_nfs/envs/pythonEnv-5e957dcf-34e0-47e4-9e56-315f015d2f78/lib/python3.10/site-packages (from httpx->llama-index-core==0.10.44->llama_index) (2024.6.2)\nRequirement already satisfied: idna in /local_disk0/.ephemeral_nfs/envs/pythonEnv-5e957dcf-34e0-47e4-9e56-315f015d2f78/lib/python3.10/site-packages (from httpx->llama-index-core==0.10.44->llama_index) (3.7)\nRequirement already satisfied: anyio in /local_disk0/.ephemeral_nfs/envs/pythonEnv-5e957dcf-34e0-47e4-9e56-315f015d2f78/lib/python3.10/site-packages (from httpx->llama-index-core==0.10.44->llama_index) (4.4.0)\nRequirement already satisfied: httpcore==1.* in /local_disk0/.ephemeral_nfs/envs/pythonEnv-5e957dcf-34e0-47e4-9e56-315f015d2f78/lib/python3.10/site-packages (from httpx->llama-index-core==0.10.44->llama_index) (1.0.5)\nRequirement already satisfied: sniffio in /local_disk0/.ephemeral_nfs/envs/pythonEnv-5e957dcf-34e0-47e4-9e56-315f015d2f78/lib/python3.10/site-packages (from httpx->llama-index-core==0.10.44->llama_index) (1.3.1)\nRequirement already satisfied: h11<0.15,>=0.13 in /local_disk0/.ephemeral_nfs/envs/pythonEnv-5e957dcf-34e0-47e4-9e56-315f015d2f78/lib/python3.10/site-packages (from httpcore==1.*->httpx->llama-index-core==0.10.44->llama_index) (0.14.0)\nRequirement already satisfied: click in /local_disk0/.ephemeral_nfs/envs/pythonEnv-5e957dcf-34e0-47e4-9e56-315f015d2f78/lib/python3.10/site-packages (from nltk<4.0.0,>=3.8.1->llama-index-core==0.10.44->llama_index) (8.1.7)\nRequirement already satisfied: regex>=2021.8.3 in /local_disk0/.ephemeral_nfs/envs/pythonEnv-5e957dcf-34e0-47e4-9e56-315f015d2f78/lib/python3.10/site-packages (from nltk<4.0.0,>=3.8.1->llama-index-core==0.10.44->llama_index) (2024.5.15)\nRequirement already satisfied: joblib in /databricks/python3/lib/python3.10/site-packages (from nltk<4.0.0,>=3.8.1->llama-index-core==0.10.44->llama_index) (1.2.0)\nRequirement already satisfied: distro<2,>=1.7.0 in /usr/lib/python3/dist-packages (from openai>=1.1.0->llama-index-core==0.10.44->llama_index) (1.7.0)\nRequirement already satisfied: urllib3<3,>=1.21.1 in /local_disk0/.ephemeral_nfs/envs/pythonEnv-5e957dcf-34e0-47e4-9e56-315f015d2f78/lib/python3.10/site-packages (from requests>=2.31.0->llama-index-core==0.10.44->llama_index) (2.2.1)\nRequirement already satisfied: charset-normalizer<4,>=2 in /local_disk0/.ephemeral_nfs/envs/pythonEnv-5e957dcf-34e0-47e4-9e56-315f015d2f78/lib/python3.10/site-packages (from requests>=2.31.0->llama-index-core==0.10.44->llama_index) (3.3.2)\nRequirement already satisfied: greenlet!=0.4.17 in /local_disk0/.ephemeral_nfs/envs/pythonEnv-5e957dcf-34e0-47e4-9e56-315f015d2f78/lib/python3.10/site-packages (from SQLAlchemy[asyncio]>=1.4.49->llama-index-core==0.10.44->llama_index) (3.0.3)\nRequirement already satisfied: mypy-extensions>=0.3.0 in /databricks/python3/lib/python3.10/site-packages (from typing-inspect>=0.8.0->llama-index-core==0.10.44->llama_index) (0.4.3)\nRequirement already satisfied: marshmallow<4.0.0,>=3.18.0 in /local_disk0/.ephemeral_nfs/envs/pythonEnv-5e957dcf-34e0-47e4-9e56-315f015d2f78/lib/python3.10/site-packages (from dataclasses-json->llama-index-core==0.10.44->llama_index) (3.21.3)\nRequirement already satisfied: python-dateutil>=2.8.1 in /databricks/python3/lib/python3.10/site-packages (from pandas->llama-index-core==0.10.44->llama_index) (2.8.2)\nRequirement already satisfied: pytz>=2020.1 in /local_disk0/.ephemeral_nfs/envs/pythonEnv-5e957dcf-34e0-47e4-9e56-315f015d2f78/lib/python3.10/site-packages (from pandas->llama-index-core==0.10.44->llama_index) (2024.1)\nRequirement already satisfied: exceptiongroup>=1.0.2 in /local_disk0/.ephemeral_nfs/envs/pythonEnv-5e957dcf-34e0-47e4-9e56-315f015d2f78/lib/python3.10/site-packages (from anyio->httpx->llama-index-core==0.10.44->llama_index) (1.2.1)\nRequirement already satisfied: packaging>=17.0 in /local_disk0/.ephemeral_nfs/envs/pythonEnv-5e957dcf-34e0-47e4-9e56-315f015d2f78/lib/python3.10/site-packages (from marshmallow<4.0.0,>=3.18.0->dataclasses-json->llama-index-core==0.10.44->llama_index) (24.1)\nRequirement already satisfied: annotated-types>=0.4.0 in /local_disk0/.ephemeral_nfs/envs/pythonEnv-5e957dcf-34e0-47e4-9e56-315f015d2f78/lib/python3.10/site-packages (from pydantic>=1.10->llamaindex-py-client<0.2.0,>=0.1.18->llama-index-core==0.10.44->llama_index) (0.7.0)\nRequirement already satisfied: pydantic-core==2.18.4 in /local_disk0/.ephemeral_nfs/envs/pythonEnv-5e957dcf-34e0-47e4-9e56-315f015d2f78/lib/python3.10/site-packages (from pydantic>=1.10->llamaindex-py-client<0.2.0,>=0.1.18->llama-index-core==0.10.44->llama_index) (2.18.4)\nRequirement already satisfied: six>=1.5 in /usr/lib/python3/dist-packages (from python-dateutil>=2.8.1->pandas->llama-index-core==0.10.44->llama_index) (1.16.0)\n\u001B[43mNote: you may need to restart the kernel using %restart_python or dbutils.library.restartPython() to use updated packages.\u001B[0m\n"
     ]
    }
   ],
   "source": [
    "!pip install pymupdf4llm\n",
    "!pip install llama_index"
   ]
  },
  {
   "cell_type": "code",
   "execution_count": 0,
   "metadata": {
    "application/vnd.databricks.v1+cell": {
     "cellMetadata": {
      "byteLimit": 2048000,
      "rowLimit": 10000
     },
     "inputWidgets": {},
     "nuid": "7d5bd298-581c-41a8-9d49-5413f5551049",
     "showTitle": false,
     "title": ""
    }
   },
   "outputs": [
    {
     "output_type": "stream",
     "name": "stdout",
     "output_type": "stream",
     "text": [
      "[NOTICE] Using a notebook authentication token. Recommended for development only. For improved performance, please use Service Principal based authentication. To disable this message, pass disable_notice=True to VectorSearchClient().\n"
     ]
    }
   ],
   "source": [
    "\n",
    "from databricks.vector_search.client import VectorSearchClient\n",
    "vsc = VectorSearchClient()"
   ]
  },
  {
   "cell_type": "code",
   "execution_count": 0,
   "metadata": {
    "application/vnd.databricks.v1+cell": {
     "cellMetadata": {
      "byteLimit": 2048000,
      "rowLimit": 10000
     },
     "inputWidgets": {},
     "nuid": "895f30a5-e01c-4fbc-a737-8ba37d72af21",
     "showTitle": false,
     "title": ""
    }
   },
   "outputs": [],
   "source": [
    "from jinja2 import Environment, FileSystemLoader\n",
    "from llama_index.core import PromptTemplate, StorageContext, VectorStoreIndex\n",
    "from llama_index.core.query_engine import RetrieverQueryEngine\n",
    "from llama_index.core.retrievers import AutoMergingRetriever\n",
    "from llama_index.core.storage.docstore import SimpleDocumentStore\n",
    "\n",
    "\n",
    "def construct_index(llm, nodes, leaf_nodes):\n",
    "    docstore = SimpleDocumentStore()\n",
    "    docstore.add_documents(nodes)\n",
    "    storage_context = StorageContext.from_defaults(docstore=docstore)\n",
    "    base_index = VectorStoreIndex(leaf_nodes, storage_context=storage_context, llm=llm)\n",
    "    return storage_context, base_index\n",
    "\n",
    "\n",
    "def construct_retriever(storage_context, index, top_k):\n",
    "    base_retriever = index.as_retriever(similarity_top_k=top_k)\n",
    "    retriever = AutoMergingRetriever(base_retriever, storage_context)\n",
    "    return retriever\n",
    "\n",
    "\n",
    "def construct_queryengine(retriever, template_dir, template_file):\n",
    "    query_engine = RetrieverQueryEngine.from_args(retriever)\n",
    "    template_loader = FileSystemLoader(template_dir)\n",
    "    template_env = Environment(loader=template_loader)\n",
    "    template = template_env.get_template(template_file)\n",
    "\n",
    "    query_prompt = PromptTemplate(template.render())\n",
    "    query_engine.update_prompts({\"response_synthesizer:text_qa_template\": query_prompt})\n",
    "    return query_engine\n"
   ]
  },
  {
   "cell_type": "code",
   "execution_count": 0,
   "metadata": {
    "application/vnd.databricks.v1+cell": {
     "cellMetadata": {
      "byteLimit": 2048000,
      "rowLimit": 10000
     },
     "inputWidgets": {},
     "nuid": "037573b3-b0cf-44ea-838a-04a69c6e7920",
     "showTitle": false,
     "title": ""
    }
   },
   "outputs": [],
   "source": [
    "import pymupdf4llm\n",
    "from llama_index.core import Document\n",
    "from llama_index.core.node_parser import HierarchicalNodeParser, get_leaf_nodes\n",
    "\n",
    "\n",
    "def parse_pdf(pdf_file):\n",
    "    output = pymupdf4llm.to_markdown(pdf_file)\n",
    "    return output\n",
    "\n",
    "\n",
    "def text_splitter(text, chunk_sizes=[1024, 512]):\n",
    "    docs = [Document(text=text)]\n",
    "    node_parser = HierarchicalNodeParser.from_defaults(chunk_sizes=chunk_sizes)\n",
    "    nodes = node_parser.get_nodes_from_documents(docs)\n",
    "    leaf_nodes = get_leaf_nodes(nodes)\n",
    "    return nodes, leaf_nodes\n",
    "\n",
    "    \n",
    "class RAG:\n",
    "\n",
    "    def __init__(self, pdf_file, llm, params):\n",
    "        self.pdf_file = pdf_file\n",
    "        self.llm = llm\n",
    "        self.params = params\n",
    "        self.setup_queryengine()\n",
    "\n",
    "    def process_pdf(self):\n",
    "        parsed_text = parse_pdf(self.pdf_file)\n",
    "        self.nodes, self.leaf_nodes = text_splitter(\n",
    "            parsed_text, self.params[\"chunk_sizes\"]\n",
    "        )\n",
    "\n",
    "    def setup_queryengine(self):\n",
    "        self.process_pdf()\n",
    "        storage_context, base_index = construct_index(\n",
    "            self.llm, self.nodes, self.leaf_nodes\n",
    "        )\n",
    "        retriever = construct_retriever(\n",
    "            storage_context, base_index, self.params[\"top_k\"]\n",
    "        )\n",
    "        self.query_engine = construct_queryengine(\n",
    "            retriever, self.params[\"template_dir\"], self.params[\"template_file\"]\n",
    "        )\n",
    "\n",
    "    def respond_query(self, query):\n",
    "        return self.query_engine.query(query)\n"
   ]
  },
  {
   "cell_type": "code",
   "execution_count": 0,
   "metadata": {
    "application/vnd.databricks.v1+cell": {
     "cellMetadata": {
      "byteLimit": 2048000,
      "rowLimit": 10000
     },
     "inputWidgets": {},
     "nuid": "a3a39278-1e49-4333-b927-3d87bcfddf5a",
     "showTitle": false,
     "title": ""
    }
   },
   "outputs": [],
   "source": [
    "from openai import OpenAI\n",
    "from openai import OpenAI\n",
    "llm = OpenAI(base_url='https://dbc-8896238f-7e0f.cloud.databricks.com/serving-endpoints/openai/invocations', \n",
    "             api_key = dbutils.secrets.list('hack')[0])\n",
    "pdf_file = \"/Volumes/home-inspection-gpt/default/inspection-report/report1.pdf\"\n",
    "\n",
    "params = {\n",
    "    \"chunk_sizes\": [512, 256],\n",
    "    \"top_k\": 5,\n",
    "    \"template_dir\": \"prompts\",\n",
    "    \"template_file\": \"template.jinja\",\n",
    "}\n",
    "prompt_list = [\n",
    "    \"What are conditions regarding the home structure including foundation walls, floors, roof, and other structural components of the house?\", \n",
    "    \"What are conditions regarding the home system including mechanical, electrical, plumbing system, heating, air conditioning, water heater, electrical panel and wiring, plumbing pipes, and sewage systems?\",\n",
    "    \"What are conditions regarding the home interior including walls, ceilings, floors, windows, doors, and built-in appliances?\",\n",
    "    \"What are conditions regarding home exterior including driveways, patios, decks, and landscaping?\"\n",
    "]\n",
    "\n",
    "homeGPT= RAG(pdf_file, llm, params)"
   ]
  },
  {
   "cell_type": "code",
   "execution_count": 0,
   "metadata": {
    "application/vnd.databricks.v1+cell": {
     "cellMetadata": {
      "byteLimit": 2048000,
      "rowLimit": 10000
     },
     "inputWidgets": {},
     "nuid": "9e459a36-d231-4783-b9c1-4022ceffd64a",
     "showTitle": false,
     "title": ""
    }
   },
   "outputs": [],
   "source": [
    "def generate_homeGPT_summary(home_agent):\n",
    "    report = []\n",
    "    for prompt in prompt_list:\n",
    "        report.append(homeGPT.respond_query(prompt).response)\n",
    "    report_string = \"/n/n\".join(report)\n",
    "    overall_report = homeGPT.respond_query(f\"Generate a overall summary based on the following perspectives {report_string}\").response\n",
    "    final_report = {\n",
    "        \"Structure\": {\n",
    "            \"Rating\": report[0].split('\\n')[0],\n",
    "            \"Approximate cost\": report[0].split('\\n')[1],\n",
    "            \"Reason\": report[0].split('\\n')[2]\n",
    "        }, \n",
    "        \"System\": {\n",
    "            \"Rating\": report[1].split('\\n')[0],\n",
    "            \"Approximate cost\": report[1].split('\\n')[1],\n",
    "            \"Reason\": report[1].split('\\n')[2]\n",
    "        },\n",
    "        \"Interior\": {\n",
    "            \"Rating\": report[2].split('\\n')[0],\n",
    "            \"Approximate cost\": report[2].split('\\n')[1],\n",
    "            \"Reason\": report[2].split('\\n')[2]\n",
    "        }, \n",
    "        \"Exterior\": {\n",
    "            \"Rating\": report[3].split('\\n')[0],\n",
    "            \"Approximate cost\": report[3].split('\\n')[1],\n",
    "            \"Reason\": report[3].split('\\n')[2]\n",
    "        }, \n",
    "        \"Overall\": overall_report\n",
    "    }\n",
    "    return final_report"
   ]
  },
  {
   "cell_type": "code",
   "execution_count": 0,
   "metadata": {
    "application/vnd.databricks.v1+cell": {
     "cellMetadata": {
      "byteLimit": 2048000,
      "rowLimit": 10000
     },
     "inputWidgets": {},
     "nuid": "b46b9a8b-0c47-442d-85ee-04a37c7df633",
     "showTitle": false,
     "title": ""
    }
   },
   "outputs": [],
   "source": [
    "import json \n",
    "final_report = generate_homeGPT_summary(homeGPT)\n",
    "report_file = \"/Volumes/home-inspection-gpt/default/inspection-report/HomeGPT_report1.pdf\"\n",
    "with open('result.json', 'w') as fp:\n",
    "    json.dump(final_report, fp)"
   ]
  },
  {
   "cell_type": "code",
   "execution_count": 0,
   "metadata": {
    "application/vnd.databricks.v1+cell": {
     "cellMetadata": {
      "byteLimit": 2048000,
      "rowLimit": 10000
     },
     "inputWidgets": {},
     "nuid": "89b36a3d-2b41-4b95-9c08-8c640467fbf3",
     "showTitle": false,
     "title": ""
    }
   },
   "outputs": [
    {
     "output_type": "execute_result",
     "data": {
      "text/plain": [
       "{'Structure': {'Rating': 'Rating: 4/5',\n",
       "  'Approximate cost': 'Approximate cost: $500 - $2000',\n",
       "  'Reason': 'Reasons: The foundation walls in the basement show signs of damage, with visible cracks and damaged insulation. The basement floor also has a few visible cracks. Additionally, the sump pump pit does not have a high water level alarm, which is recommended for safety. These issues should be addressed by a qualified professional to prevent further damage and ensure the structural integrity of the home. The cost range provided is an estimate and can vary depending on the extent of the damage and the specific repairs needed.'},\n",
       " 'System': {'Rating': 'Rating: 5/5',\n",
       "  'Approximate cost': 'Approximate cost: $500 - $2000',\n",
       "  'Reason': 'Reasons: The home system has multiple issues that need to be addressed, including potential carbon monoxide risks from the heating system, water softener concerns, gas line issues, electrical deficiencies, and damaged windows. These issues are urgent and important for the safety and functionality of the home. The cost of repairs can vary depending on the extent of the damage and the specific repairs needed.'},\n",
       " 'Interior': {'Rating': 'Rating: 3/5',\n",
       "  'Approximate cost': 'Approximate cost: $200 - $500',\n",
       "  'Reason': 'Reasons: The issues with loose/damaged window tracks, cracked caulking, and creaking floors are important to address to prevent further damage and ensure safety. The white build-up on the fireplace glass should be serviced for safety reasons. Replacing smoke and carbon monoxide detector batteries and detectors is crucial for home safety. The cost range provided is an estimate for repairing these issues.'},\n",
       " 'Exterior': {'Rating': 'Rating: 3/5',\n",
       "  'Approximate cost': 'Approximate cost: $500 - $1000',\n",
       "  'Reason': 'Reasons: The erosion beneath the patio concrete and lack of water resistant covers on the window wells could lead to water intrusion and potential structural issues if not addressed. It is important to address these issues to prevent further damage and maintain the integrity of the home. The cost range provided is an estimate for repairing these issues.'},\n",
       " 'Overall': 'Overall Summary:\\n\\nThe home inspection revealed several important issues that need to be addressed to ensure the safety and structural integrity of the property. From damaged foundation walls and insulation in the basement to cracks in the basement floor and the lack of a high water level alarm in the sump pump pit, there are multiple urgent concerns that should be addressed by a qualified professional. Additionally, issues with loose/damaged window tracks, cracked caulking, creaking floors, and a white build-up on the fireplace glass also need attention for safety reasons. The approximate cost for repairs ranges from $200 to $2000, depending on the extent of the damage and the specific repairs needed. It is crucial for the homeowner to address these issues promptly to prevent further damage and maintain the overall condition of the home.'}"
      ]
     },
     "execution_count": 49,
     "metadata": {},
     "output_type": "execute_result"
    }
   ],
   "source": [
    "final_report"
   ]
  },
  {
   "cell_type": "code",
   "execution_count": 0,
   "metadata": {
    "application/vnd.databricks.v1+cell": {
     "cellMetadata": {
      "byteLimit": 2048000,
      "rowLimit": 10000
     },
     "inputWidgets": {},
     "nuid": "1fe1ca53-8e7b-4da4-81dc-867505300f3c",
     "showTitle": false,
     "title": ""
    },
    "jupyter": {
     "outputs_hidden": true
    }
   },
   "outputs": [],
   "source": []
  },
  {
   "cell_type": "code",
   "execution_count": 0,
   "metadata": {
    "application/vnd.databricks.v1+cell": {
     "cellMetadata": {},
     "inputWidgets": {},
     "nuid": "b9d4621f-4073-4b39-b4f1-f3d83f7d3212",
     "showTitle": false,
     "title": ""
    }
   },
   "outputs": [],
   "source": []
  }
 ],
 "metadata": {
  "application/vnd.databricks.v1+notebook": {
   "dashboards": [],
   "environmentMetadata": null,
   "language": "python",
   "notebookMetadata": {
    "pythonIndentUnit": 4
   },
   "notebookName": "RAG version 1",
   "widgets": {}
  }
 },
 "nbformat": 4,
 "nbformat_minor": 0
}
