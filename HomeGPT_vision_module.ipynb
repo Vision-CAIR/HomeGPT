{
  "nbformat": 4,
  "nbformat_minor": 0,
  "metadata": {
    "colab": {
      "provenance": []
    },
    "kernelspec": {
      "name": "python3",
      "display_name": "Python 3"
    },
    "language_info": {
      "name": "python"
    }
  },
  "cells": [
    {
      "cell_type": "code",
      "execution_count": null,
      "metadata": {
        "id": "vv79HmwKHMTW"
      },
      "outputs": [],
      "source": [
        "dbutils.library.restartPython()\n",
        "%pip install replicate\n",
        "\n",
        "!export REPLICATE_API_TOKEN=r8_fFGbxUYZLt0w904IKtYRPUwY7oXQPTE1BNDkU\n",
        "# !wget https://github.com/mhelhoseiny/mhelhoseiny.github.io/blob/main/homedamage.png -O /tmp/tmp207ntoi0homedamage.png\n",
        "import os\n",
        "import replicate\n",
        "\n",
        "# Set the API token in the environment\n",
        "# os.environ['REPLICATE_API_TOKEN'] = 'r8_fFGbxUYZLt0w904IKtYRPUwY7oXQPTE1BNDkU'\n",
        "os.environ[\"REPLICATE_API_TOKEN\"] = \"r8_fFGbxUYZLt0w904IKtYRPUwY7oXQPTE1BNDkU\"\n",
        "api = replicate.Client(api_token=os.environ[\"REPLICATE_API_TOKEN\"])\n",
        "\n",
        "input_data = {\n",
        "    \"image\": \"https://thumbs.dreamstime.com/z/building-defect-damaged-wall-paint-122303262.jpg\",\n",
        "    \"prompt\": \"This an image of a wall. Write small comment on whether you see any damage?\",\n",
        "    \"num_beams\": 5,\n",
        "    \"temperature\": 1.32\n",
        "}\n",
        "\n",
        "output = api.run(\n",
        "    \"daanelson/minigpt-4:e447a8583cffd86ce3b93f9c2cd24f2eae603d99ace6afa94b33a08e94a3cd06\",\n",
        "    input=input_data\n",
        ")\n",
        "print(output)\n",
        "\n",
        "# input_data = {\n",
        "#     \"image\": \"https://replicate.delivery/pbxt/IqG1MbemhULihtfr62URRZbI29XtcPsnOYASrTDQ6u5oSqv9/llama_13b.png\",\n",
        "#     \"prompt\": \"This llama's name is Dave. Write me a story about how Dave found his skateboard.\",\n",
        "#     \"num_beams\": 5,\n",
        "#     \"temperature\": 1.32\n",
        "# }\n",
        "\n",
        "\n"
      ]
    }
  ]
}